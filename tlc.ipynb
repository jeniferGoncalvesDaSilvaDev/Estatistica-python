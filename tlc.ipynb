{
  "nbformat": 4,
  "nbformat_minor": 0,
  "metadata": {
    "colab": {
      "provenance": [],
      "authorship_tag": "ABX9TyOQwnH9IXhMEyY58UTDCPq9",
      "include_colab_link": true
    },
    "kernelspec": {
      "name": "python3",
      "display_name": "Python 3"
    },
    "language_info": {
      "name": "python"
    }
  },
  "cells": [
    {
      "cell_type": "markdown",
      "metadata": {
        "id": "view-in-github",
        "colab_type": "text"
      },
      "source": [
        "<a href=\"https://colab.research.google.com/github/jeniferGoncalvesDaSilvaDev/Estatistica-python/blob/main/tlc.ipynb\" target=\"_parent\"><img src=\"https://colab.research.google.com/assets/colab-badge.svg\" alt=\"Open In Colab\"/></a>"
      ]
    },
    {
      "cell_type": "code",
      "execution_count": 14,
      "metadata": {
        "id": "7Gechf-7-1Y1"
      },
      "outputs": [],
      "source": [
        "import numpy as np\n",
        "import seaborn as sb\n",
        "import matplotlib.pyplot as plt\n",
        "from scipy.stats import bernoulli"
      ]
    },
    {
      "cell_type": "code",
      "source": [
        "\n",
        "\n",
        "# Define the number of coins\n",
        "numero_moedas = np.arange(1, 100)\n",
        "\n",
        "# Define the probability of success\n",
        "p = 0.5\n",
        "\n",
        "# Create a Bernoulli distribution object\n",
        "bernoulli_distribution = bernoulli(p)\n",
        "\n",
        "# Calculate the pmf of the Bernoulli distribution\n",
        "fracasso= bernoulli_distribution.pmf(0)\n",
        "sucesso= bernoulli_distribution.pmf(1)\n",
        "resultados = [fracasso,sucesso]\n",
        "# Print the pmf\n",
        "print(resultados)"
      ],
      "metadata": {
        "colab": {
          "base_uri": "https://localhost:8080/"
        },
        "id": "FWA2W-cy_WNG",
        "outputId": "c106b135-2854-4d96-f7e6-e41fca483aaa"
      },
      "execution_count": 17,
      "outputs": [
        {
          "output_type": "stream",
          "name": "stdout",
          "text": [
            "[0.5000000000000001, 0.5]\n"
          ]
        }
      ]
    }
  ]
}