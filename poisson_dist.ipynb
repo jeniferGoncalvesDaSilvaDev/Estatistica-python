{
  "nbformat": 4,
  "nbformat_minor": 0,
  "metadata": {
    "colab": {
      "provenance": [],
      "authorship_tag": "ABX9TyOO9arH8b26tCisgz6T+lZ/",
      "include_colab_link": true
    },
    "kernelspec": {
      "name": "python3",
      "display_name": "Python 3"
    },
    "language_info": {
      "name": "python"
    }
  },
  "cells": [
    {
      "cell_type": "markdown",
      "metadata": {
        "id": "view-in-github",
        "colab_type": "text"
      },
      "source": [
        "<a href=\"https://colab.research.google.com/github/jeniferGoncalvesDaSilvaDev/Estatistica-python/blob/main/poisson_dist.ipynb\" target=\"_parent\"><img src=\"https://colab.research.google.com/assets/colab-badge.svg\" alt=\"Open In Colab\"/></a>"
      ]
    },
    {
      "cell_type": "code",
      "execution_count": 10,
      "metadata": {
        "id": "-iUf_AS9xZMj"
      },
      "outputs": [],
      "source": [
        "from scipy.stats import poisson,binom,bernoulli\n",
        "import numpy as np"
      ]
    },
    {
      "cell_type": "code",
      "source": [
        "#gerando amostras aleatorias com bernoulli\n",
        "p = 0.5\n",
        "a = bernoulli.rvs(p,size=10)\n",
        "print(a)"
      ],
      "metadata": {
        "id": "i4N-o7_l3B1P",
        "outputId": "2cca6704-67b5-4917-ed98-af014250e962",
        "colab": {
          "base_uri": "https://localhost:8080/"
        }
      },
      "execution_count": 15,
      "outputs": [
        {
          "output_type": "stream",
          "name": "stdout",
          "text": [
            "[0 1 1 0 0 0 1 1 0 0]\n"
          ]
        }
      ]
    },
    {
      "cell_type": "code",
      "source": [
        "\n",
        "#gerando amostras aleatorias com numpy\n",
        "a = np.random.poisson(k,size = 10)\n",
        "print(a)\n",
        "k = 10\n",
        "#gerando amostras aleatorias com scipy\n",
        "amostras = poisson.rvs(k, size=10)\n",
        "print(amostras)"
      ],
      "metadata": {
        "id": "d4xFED-r1jUW",
        "outputId": "d259abb0-5508-4a58-a1ac-a0d867aec365",
        "colab": {
          "base_uri": "https://localhost:8080/"
        }
      },
      "execution_count": 6,
      "outputs": [
        {
          "output_type": "stream",
          "name": "stdout",
          "text": [
            "[11 14  9 14  8  9 12  9 10  5]\n",
            "[15  8  6  9  9  7 17  5  7  5]\n"
          ]
        }
      ]
    },
    {
      "cell_type": "code",
      "source": [
        "#amostras aleatorias com binomal\n",
        "k = 5\n",
        "p =0.5\n",
        "t = 10\n",
        "a = np.random.binomial(t,p,size=10)\n",
        "print(a)\n",
        "a2 = binom.rvs(t,p,size=10)\n",
        "print(a2)"
      ],
      "metadata": {
        "id": "x5NYB0zZ2X-Q",
        "outputId": "cc4910cf-c51e-405e-dd60-b2d6a2dce997",
        "colab": {
          "base_uri": "https://localhost:8080/"
        }
      },
      "execution_count": 16,
      "outputs": [
        {
          "output_type": "stream",
          "name": "stdout",
          "text": [
            "[6 5 4 5 4 7 6 5 5 5]\n",
            "[4 3 6 3 5 7 4 4 6 4]\n"
          ]
        }
      ]
    },
    {
      "cell_type": "code",
      "source": [
        "#encontrar 6 pacientes doentes em 3 dia\n",
        "# numero de eventos\n",
        "k = 6\n",
        "# intervalo de tempo\n",
        "t = 3\n",
        "p_poissom = poisson.pmf(k,t)*100\n",
        "print(f'{p_poissom:.2f}')"
      ],
      "metadata": {
        "colab": {
          "base_uri": "https://localhost:8080/"
        },
        "id": "95TVmtNjxmdf",
        "outputId": "1a8b6e5f-1ecf-4898-c188-18819efab342"
      },
      "execution_count": null,
      "outputs": [
        {
          "output_type": "stream",
          "name": "stdout",
          "text": [
            "5.04\n"
          ]
        }
      ]
    },
    {
      "cell_type": "code",
      "source": [
        "k =[5,9,2,4]\n",
        "t = 10\n",
        "p_poissom = poisson.pmf(k,t)*100\n",
        "print(p_poissom)"
      ],
      "metadata": {
        "colab": {
          "base_uri": "https://localhost:8080/"
        },
        "id": "50jCxdozzPo9",
        "outputId": "86cf1bd5-5d56-4d51-f8be-3c5e39bc6440"
      },
      "execution_count": null,
      "outputs": [
        {
          "output_type": "stream",
          "name": "stdout",
          "text": [
            "[ 3.78332748 12.51100357  0.22699965  1.89166374]\n"
          ]
        }
      ]
    },
    {
      "cell_type": "code",
      "source": [
        "k = np.arange(1,6)\n",
        "t = np.arange(1,6)\n",
        "p_poisson = poisson.pmf(k,t)*100\n",
        "print(p_poisson)"
      ],
      "metadata": {
        "colab": {
          "base_uri": "https://localhost:8080/"
        },
        "id": "R3a1Lgb10nvr",
        "outputId": "8a0099df-582d-4f5f-d6e0-a0913782a6b3"
      },
      "execution_count": null,
      "outputs": [
        {
          "output_type": "stream",
          "name": "stdout",
          "text": [
            "[36.78794412 27.06705665 22.40418077 19.53668148 17.54673698]\n"
          ]
        }
      ]
    }
  ]
}