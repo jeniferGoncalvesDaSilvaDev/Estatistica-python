{
  "nbformat": 4,
  "nbformat_minor": 0,
  "metadata": {
    "colab": {
      "provenance": [],
      "authorship_tag": "ABX9TyOl01FvGDonUcYn9YWZc6GI",
      "include_colab_link": true
    },
    "kernelspec": {
      "name": "python3",
      "display_name": "Python 3"
    },
    "language_info": {
      "name": "python"
    }
  },
  "cells": [
    {
      "cell_type": "markdown",
      "metadata": {
        "id": "view-in-github",
        "colab_type": "text"
      },
      "source": [
        "<a href=\"https://colab.research.google.com/github/jeniferGoncalvesDaSilvaDev/Estatistica-python/blob/main/poisson_dist.ipynb\" target=\"_parent\"><img src=\"https://colab.research.google.com/assets/colab-badge.svg\" alt=\"Open In Colab\"/></a>"
      ]
    },
    {
      "cell_type": "code",
      "execution_count": 19,
      "metadata": {
        "id": "-iUf_AS9xZMj"
      },
      "outputs": [],
      "source": [
        "from scipy.stats import poisson\n",
        "import numpy as np"
      ]
    },
    {
      "cell_type": "code",
      "source": [
        "#encontrar 6 pacientes doentes em 3 dia\n",
        "# numero de eventos\n",
        "k = 6\n",
        "# intervalo de tempo\n",
        "t = 3\n",
        "p_poissom = poisson.pmf(k,t)*100\n",
        "print(f'{p_poissom:.2f}')"
      ],
      "metadata": {
        "colab": {
          "base_uri": "https://localhost:8080/"
        },
        "id": "95TVmtNjxmdf",
        "outputId": "1a8b6e5f-1ecf-4898-c188-18819efab342"
      },
      "execution_count": 15,
      "outputs": [
        {
          "output_type": "stream",
          "name": "stdout",
          "text": [
            "5.04\n"
          ]
        }
      ]
    },
    {
      "cell_type": "code",
      "source": [
        "k =[5,9,2,4]\n",
        "t = 10\n",
        "p_poissom = poisson.pmf(k,t)*100\n",
        "print(p_poissom)"
      ],
      "metadata": {
        "colab": {
          "base_uri": "https://localhost:8080/"
        },
        "id": "50jCxdozzPo9",
        "outputId": "86cf1bd5-5d56-4d51-f8be-3c5e39bc6440"
      },
      "execution_count": 18,
      "outputs": [
        {
          "output_type": "stream",
          "name": "stdout",
          "text": [
            "[ 3.78332748 12.51100357  0.22699965  1.89166374]\n"
          ]
        }
      ]
    },
    {
      "cell_type": "code",
      "source": [
        "k = np.arange(1,6)\n",
        "t = np.arange(1,6)\n",
        "p_poisson = poisson.pmf(k,t)*100\n",
        "print(p_poisson)"
      ],
      "metadata": {
        "colab": {
          "base_uri": "https://localhost:8080/"
        },
        "id": "R3a1Lgb10nvr",
        "outputId": "8a0099df-582d-4f5f-d6e0-a0913782a6b3"
      },
      "execution_count": 24,
      "outputs": [
        {
          "output_type": "stream",
          "name": "stdout",
          "text": [
            "[36.78794412 27.06705665 22.40418077 19.53668148 17.54673698]\n"
          ]
        }
      ]
    }
  ]
}