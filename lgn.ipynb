{
  "nbformat": 4,
  "nbformat_minor": 0,
  "metadata": {
    "colab": {
      "provenance": [],
      "authorship_tag": "ABX9TyNz+ACdTK5LG/K/VuoQHfe4",
      "include_colab_link": true
    },
    "kernelspec": {
      "name": "python3",
      "display_name": "Python 3"
    },
    "language_info": {
      "name": "python"
    }
  },
  "cells": [
    {
      "cell_type": "markdown",
      "metadata": {
        "id": "view-in-github",
        "colab_type": "text"
      },
      "source": [
        "<a href=\"https://colab.research.google.com/github/jeniferGoncalvesDaSilvaDev/Estatistica-python/blob/main/lgn.ipynb\" target=\"_parent\"><img src=\"https://colab.research.google.com/assets/colab-badge.svg\" alt=\"Open In Colab\"/></a>"
      ]
    },
    {
      "cell_type": "code",
      "execution_count": null,
      "metadata": {
        "colab": {
          "base_uri": "https://localhost:8080/"
        },
        "id": "L-KrvTDHddWn",
        "outputId": "2cc3b45b-a074-485e-fee1-71cbfbd3fbb7"
      },
      "outputs": [
        {
          "output_type": "stream",
          "name": "stdout",
          "text": [
            "[1.45 1.6  1.5  1.56 1.89 1.67]\n",
            "[1.67 1.89 1.45 1.78 1.9  1.67]\n"
          ]
        }
      ],
      "source": [
        "#import seaborn as sb\n",
        "import numpy as np\n",
        "#import matplotlib.pyplot as plt\n",
        "\n",
        "mu = 1.70\n",
        "sigma = 30\n",
        "\n",
        "#populacao = np.random.normal(mu,sigma,tamanho_pop)\n",
        "lista_p=[1.45,1.60,1.50,1.56,1.89,1.67]\n",
        "tamanho_p=len(lista_p)\n",
        "populacao=np.array(lista_p)\n",
        "#sb.histplot(populacao,kde=True)\n",
        "#plt.show()\n",
        "\n",
        "lista_a=[1.67,1.89,1.45,1.78,1.90,1.67]\n",
        "tamanho_amostra=len(lista_a)\n",
        "amostra = np.array(lista_a)\n",
        "print(populacao)\n",
        "print(amostra)"
      ]
    }
  ]
}