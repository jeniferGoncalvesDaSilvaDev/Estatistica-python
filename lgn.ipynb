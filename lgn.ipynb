{
  "nbformat": 4,
  "nbformat_minor": 0,
  "metadata": {
    "colab": {
      "provenance": [],
      "authorship_tag": "ABX9TyOdUU22QyGi6s0vh9K57Tch",
      "include_colab_link": true
    },
    "kernelspec": {
      "name": "python3",
      "display_name": "Python 3"
    },
    "language_info": {
      "name": "python"
    }
  },
  "cells": [
    {
      "cell_type": "markdown",
      "metadata": {
        "id": "view-in-github",
        "colab_type": "text"
      },
      "source": [
        "<a href=\"https://colab.research.google.com/github/jeniferGoncalvesDaSilvaDev/Estatistica-python/blob/main/lgn.ipynb\" target=\"_parent\"><img src=\"https://colab.research.google.com/assets/colab-badge.svg\" alt=\"Open In Colab\"/></a>"
      ]
    },
    {
      "cell_type": "code",
      "execution_count": 13,
      "metadata": {
        "colab": {
          "base_uri": "https://localhost:8080/"
        },
        "id": "L-KrvTDHddWn",
        "outputId": "29635da4-72e8-4b8a-e5c3-af80ec9bcb3c"
      },
      "outputs": [
        {
          "output_type": "stream",
          "name": "stdout",
          "text": [
            "2 0.16\n",
            "[1.45 1.6  1.5  1.56 1.89 1.67]\n",
            "[1.67 1.89 1.45 1.78 1.9  1.67]\n"
          ]
        }
      ],
      "source": [
        "import seaborn as sb\n",
        "import numpy as np\n",
        "import matplotlib.pyplot as plt\n",
        "import statistics as st\n",
        "\n",
        "lista_p=[1.45,1.60,1.50,1.56,1.89,1.67]\n",
        "tamanho_p=len(lista_p)\n",
        "populacao=np.array(lista_p)\n",
        "mu = st.mean(populacao)\n",
        "sigma=st.stdev(populacao)\n",
        "print(round(mu),round(sigma,2))\n",
        "#sb.histplot(populacao,kde=True)\n",
        "#plt.show()\n",
        "\n",
        "lista_a=[1.67,1.89,1.45,1.78,1.90,1.67]\n",
        "tamanho_amostra=len(lista_a)\n",
        "amostra = np.array(lista_a)\n",
        "print(populacao)\n",
        "print(amostra)"
      ]
    }
  ]
}