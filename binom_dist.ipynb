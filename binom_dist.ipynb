{
  "nbformat": 4,
  "nbformat_minor": 0,
  "metadata": {
    "colab": {
      "provenance": [],
      "authorship_tag": "ABX9TyMjpJa0bB9rLDJdh3GgQDPx",
      "include_colab_link": true
    },
    "kernelspec": {
      "name": "python3",
      "display_name": "Python 3"
    },
    "language_info": {
      "name": "python"
    }
  },
  "cells": [
    {
      "cell_type": "markdown",
      "metadata": {
        "id": "view-in-github",
        "colab_type": "text"
      },
      "source": [
        "<a href=\"https://colab.research.google.com/github/jeniferGoncalvesDaSilvaDev/Estatistica-python/blob/main/binom_dist.ipynb\" target=\"_parent\"><img src=\"https://colab.research.google.com/assets/colab-badge.svg\" alt=\"Open In Colab\"/></a>"
      ]
    },
    {
      "cell_type": "code",
      "execution_count": 3,
      "metadata": {
        "id": "eY_aiCTdDabO"
      },
      "outputs": [],
      "source": [
        "from scipy.stats import binom"
      ]
    },
    {
      "cell_type": "code",
      "source": [
        "p = 0.5\n",
        "tentativas=10\n",
        "cara = 5\n",
        "prob_cara = binom.pmf(cara,tentativas,p)\n",
        "print(prob_cara)"
      ],
      "metadata": {
        "id": "PZebRGBJDxxz",
        "colab": {
          "base_uri": "https://localhost:8080/"
        },
        "outputId": "f0347c95-1825-4c4b-ac15-d91fa07fc094"
      },
      "execution_count": null,
      "outputs": [
        {
          "output_type": "stream",
          "name": "stdout",
          "text": [
            "0.24609375000000003\n"
          ]
        }
      ]
    },
    {
      "cell_type": "code",
      "source": [
        "lista_prob=[0.56,0.45,0.78,0.78]\n",
        "tentativas = 6\n",
        "sucesso = 3\n",
        "prob_sucesso = [binom.pmf(sucesso, tentativas,lista_prob) for i in  range(0,len(lista_prob))]\n",
        "print(prob_sucesso)"
      ],
      "metadata": {
        "id": "_7tjVeCOIGtb",
        "outputId": "06a90f16-749f-4c12-9269-c6bdf2644203",
        "colab": {
          "base_uri": "https://localhost:8080/"
        }
      },
      "execution_count": 9,
      "outputs": [
        {
          "output_type": "stream",
          "name": "stdout",
          "text": [
            "[array([0.29919347, 0.30321844, 0.10106059, 0.10106059]), array([0.29919347, 0.30321844, 0.10106059, 0.10106059]), array([0.29919347, 0.30321844, 0.10106059, 0.10106059]), array([0.29919347, 0.30321844, 0.10106059, 0.10106059])]\n"
          ]
        }
      ]
    }
  ]
}