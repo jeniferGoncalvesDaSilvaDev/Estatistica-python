{
  "nbformat": 4,
  "nbformat_minor": 0,
  "metadata": {
    "colab": {
      "provenance": [],
      "authorship_tag": "ABX9TyOYYClqPl6PHW8lO5Vw2hRZ",
      "include_colab_link": true
    },
    "kernelspec": {
      "name": "python3",
      "display_name": "Python 3"
    },
    "language_info": {
      "name": "python"
    }
  },
  "cells": [
    {
      "cell_type": "markdown",
      "metadata": {
        "id": "view-in-github",
        "colab_type": "text"
      },
      "source": [
        "<a href=\"https://colab.research.google.com/github/jeniferGoncalvesDaSilvaDev/Estatistica-python/blob/main/binom_dist.ipynb\" target=\"_parent\"><img src=\"https://colab.research.google.com/assets/colab-badge.svg\" alt=\"Open In Colab\"/></a>"
      ]
    },
    {
      "cell_type": "code",
      "execution_count": null,
      "metadata": {
        "id": "eY_aiCTdDabO"
      },
      "outputs": [],
      "source": [
        "from scipy.stats import binom"
      ]
    },
    {
      "cell_type": "code",
      "source": [
        "p=0.650\n",
        "tentativas=12\n",
        "peca_defeituosa = 1\n",
        "if peca_defeituosa==2:\n",
        "   prob_defeito= binom.pmf(peca_defeituosa,tentativas,p)\n",
        "   print(prob_defeito)\n",
        "elif peca_defeituosa==4:\n",
        "   prob_defeito= binom.pmf(peca_defeituosa,tentativas,p)\n",
        "   print(prob_defeito)\n",
        "elif peca_defeituosa<=2:\n",
        "   prob_defeito= binom.pmf(peca_defeituosa,tentativas,p)\n",
        "   print(prob_defeito)"
      ],
      "metadata": {
        "id": "bo6NyGVqN3BB",
        "outputId": "f49db65b-312c-4496-b867-3e9945ac87af",
        "colab": {
          "base_uri": "https://localhost:8080/"
        }
      },
      "execution_count": null,
      "outputs": [
        {
          "output_type": "stream",
          "name": "stdout",
          "text": [
            "7.530834275097653e-05\n"
          ]
        }
      ]
    },
    {
      "cell_type": "code",
      "source": [
        "p = 0.5\n",
        "tentativas=10\n",
        "cara = 5\n",
        "prob_cara = binom.pmf(cara,tentativas,p)\n",
        "print(prob_cara)"
      ],
      "metadata": {
        "id": "PZebRGBJDxxz",
        "colab": {
          "base_uri": "https://localhost:8080/"
        },
        "outputId": "f0347c95-1825-4c4b-ac15-d91fa07fc094"
      },
      "execution_count": null,
      "outputs": [
        {
          "output_type": "stream",
          "name": "stdout",
          "text": [
            "0.24609375000000003\n"
          ]
        }
      ]
    }
  ]
}