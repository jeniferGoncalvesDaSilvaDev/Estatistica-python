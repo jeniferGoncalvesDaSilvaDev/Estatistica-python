{
  "nbformat": 4,
  "nbformat_minor": 0,
  "metadata": {
    "colab": {
      "provenance": [],
      "authorship_tag": "ABX9TyNCrDghXoah8WQu6ZqCiZSD",
      "include_colab_link": true
    },
    "kernelspec": {
      "name": "python3",
      "display_name": "Python 3"
    },
    "language_info": {
      "name": "python"
    }
  },
  "cells": [
    {
      "cell_type": "markdown",
      "metadata": {
        "id": "view-in-github",
        "colab_type": "text"
      },
      "source": [
        "<a href=\"https://colab.research.google.com/github/jeniferGoncalvesDaSilvaDev/Estatistica-python/blob/main/binom_dist.ipynb\" target=\"_parent\"><img src=\"https://colab.research.google.com/assets/colab-badge.svg\" alt=\"Open In Colab\"/></a>"
      ]
    },
    {
      "cell_type": "code",
      "execution_count": 3,
      "metadata": {
        "id": "eY_aiCTdDabO"
      },
      "outputs": [],
      "source": [
        "from scipy.stats import binom"
      ]
    },
    {
      "cell_type": "code",
      "source": [
        "p = 0.5\n",
        "tentativas=10\n",
        "cara = 5\n",
        "rv = binom.pmf(cara,tentativas,p)\n",
        "print(rv)"
      ],
      "metadata": {
        "id": "PZebRGBJDxxz",
        "colab": {
          "base_uri": "https://localhost:8080/"
        },
        "outputId": "24f208cc-438f-462e-9148-091a7ae38cef"
      },
      "execution_count": 5,
      "outputs": [
        {
          "output_type": "stream",
          "name": "stdout",
          "text": [
            "0.24609375000000003\n"
          ]
        }
      ]
    }
  ]
}