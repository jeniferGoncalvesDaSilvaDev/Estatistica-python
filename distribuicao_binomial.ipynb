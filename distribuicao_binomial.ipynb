{
  "nbformat": 4,
  "nbformat_minor": 0,
  "metadata": {
    "colab": {
      "provenance": [],
      "authorship_tag": "ABX9TyOxYGzLUz76ovTFWbPL0Q6T",
      "include_colab_link": true
    },
    "kernelspec": {
      "name": "python3",
      "display_name": "Python 3"
    },
    "language_info": {
      "name": "python"
    }
  },
  "cells": [
    {
      "cell_type": "markdown",
      "metadata": {
        "id": "view-in-github",
        "colab_type": "text"
      },
      "source": [
        "<a href=\"https://colab.research.google.com/github/jeniferGoncalvesDaSilvaDev/Estatistica-python/blob/main/distribuicao_binomial.ipynb\" target=\"_parent\"><img src=\"https://colab.research.google.com/assets/colab-badge.svg\" alt=\"Open In Colab\"/></a>"
      ]
    },
    {
      "cell_type": "code",
      "execution_count": 6,
      "metadata": {
        "colab": {
          "base_uri": "https://localhost:8080/"
        },
        "id": "-eTGmoTppT6M",
        "outputId": "e44a547d-41af-4769-fd1c-ae504792dff4"
      },
      "outputs": [
        {
          "output_type": "stream",
          "name": "stdout",
          "text": [
            "o número 0 em 6 tentativas é de 0.33489797668038424\n",
            "o número 1 em 6 tentativas é de 0.4018775720164608\n",
            "o número 2 em 6 tentativas é de 0.2009387860082302\n",
            "o número 3 em 6 tentativas é de 0.05358367626886142\n",
            "o número 4 em 6 tentativas é de 0.008037551440329213\n",
            "o número 5 em 6 tentativas é de 0.0006430041152263371\n",
            "o número 6 em 6 tentativas é de 2.1433470507544573e-05\n"
          ]
        }
      ],
      "source": [
        "from numpy import arange as r\n",
        "from scipy.stats import binom\n",
        "#import matplotlib.pyplot as plt\n",
        "#distribuicao de probabilidade binomial\n",
        "#lançamento de dados\n",
        "#numero de tentativas\n",
        "tentativas =6\n",
        "#ptobabilidade de um numero qualquer cair em um dado\n",
        "p=1/6\n",
        "#quantidade de sucesso\n",
        "indice_k = r(0,tentativas+1)\n",
        "probabilidades = binom.pmf(indice_k,tentativas,p)\n",
        "#a funcap zip, agrupa duas listas\n",
        "for k, prob in zip(indice_k, probabilidades):\n",
        "    print(f'o número {k} em {tentativas} tentativas é de {prob}')"
      ]
    }
  ]
}