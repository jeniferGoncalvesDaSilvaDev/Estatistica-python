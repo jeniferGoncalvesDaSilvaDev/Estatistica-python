{
  "nbformat": 4,
  "nbformat_minor": 0,
  "metadata": {
    "colab": {
      "provenance": [],
      "authorship_tag": "ABX9TyNrh2exsIlsP1xt6H2qcBgX",
      "include_colab_link": true
    },
    "kernelspec": {
      "name": "python3",
      "display_name": "Python 3"
    },
    "language_info": {
      "name": "python"
    }
  },
  "cells": [
    {
      "cell_type": "markdown",
      "metadata": {
        "id": "view-in-github",
        "colab_type": "text"
      },
      "source": [
        "<a href=\"https://colab.research.google.com/github/jeniferGoncalvesDaSilvaDev/Estatistica-python/blob/main/distribuicao_binomial.ipynb\" target=\"_parent\"><img src=\"https://colab.research.google.com/assets/colab-badge.svg\" alt=\"Open In Colab\"/></a>"
      ]
    },
    {
      "cell_type": "code",
      "execution_count": 14,
      "metadata": {
        "colab": {
          "base_uri": "https://localhost:8080/"
        },
        "id": "-eTGmoTppT6M",
        "outputId": "cada276c-149f-48e5-cd84-eb8ea902d5cf"
      },
      "outputs": [
        {
          "output_type": "stream",
          "name": "stdout",
          "text": [
            "A probabilidade de obter o número 2 em 0 vezes nas 6 tentativas é de 33.49 %\n",
            "A probabilidade de obter o número 2 em 1 vezes nas 6 tentativas é de 40.19 %\n",
            "A probabilidade de obter o número 2 em 2 vezes nas 6 tentativas é de 20.09 %\n",
            "A probabilidade de obter o número 2 em 3 vezes nas 6 tentativas é de 5.36 %\n",
            "A probabilidade de obter o número 2 em 4 vezes nas 6 tentativas é de 0.80 %\n",
            "A probabilidade de obter o número 2 em 5 vezes nas 6 tentativas é de 0.06 %\n",
            "A probabilidade de obter o número 2 em 6 vezes nas 6 tentativas é de 0.00 %\n"
          ]
        }
      ],
      "source": [
        "from numpy import arange as r\n",
        "from scipy.stats import binom\n",
        "import matplotlib.pyplot as plt\n",
        "#distribuicao de probabilidade binomial\n",
        "#lançamento de dados\n",
        "#numero de tentativas\n",
        "tentativas =6\n",
        "#ptobabilidade de um numero qualquer cair em um dado\n",
        "p=1/6\n",
        "#quantidade de sucesso\n",
        "indice_k = r(0,tentativas+1)\n",
        "probabilidades = binom.pmf(indice_k,tentativas,p)\n",
        "#a funcap zip, agrupa duas listas\n",
        "for k, prob in zip(indice_k, probabilidades):\n",
        "    print(f'A probabilidade de obter o número 2 em {k} vezes nas {tentativas} tentativas é de {prob*100:.2f} %')"
      ]
    },
    {
      "cell_type": "code",
      "source": [
        "plt.bar(indice_k, probabilidades)"
      ],
      "metadata": {
        "id": "NS5nP_S9u1Z4",
        "outputId": "dfd642aa-ba96-44da-d069-752fbf1935ce",
        "colab": {
          "base_uri": "https://localhost:8080/",
          "height": 260
        }
      },
      "execution_count": 15,
      "outputs": [
        {
          "output_type": "execute_result",
          "data": {
            "text/plain": [
              "<BarContainer object of 7 artists>"
            ]
          },
          "metadata": {},
          "execution_count": 15
        },
        {
          "output_type": "display_data",
          "data": {
            "text/plain": [
              "<Figure size 640x480 with 1 Axes>"
            ],
            "image/png": "[encoded data removed]"
          },
          "metadata": {}
        }
      ]
    }
  ]
}