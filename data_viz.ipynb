{
  "nbformat": 4,
  "nbformat_minor": 0,
  "metadata": {
    "colab": {
      "provenance": [],
      "authorship_tag": "ABX9TyMPyvtOyli51cYl13lllnt4",
      "include_colab_link": true
    },
    "kernelspec": {
      "name": "python3",
      "display_name": "Python 3"
    },
    "language_info": {
      "name": "python"
    }
  },
  "cells": [
    {
      "cell_type": "markdown",
      "metadata": {
        "id": "view-in-github",
        "colab_type": "text"
      },
      "source": [
        "<a href=\"https://colab.research.google.com/github/jeniferGoncalvesDaSilvaDev/Estatistica-python/blob/main/data_viz.ipynb\" target=\"_parent\"><img src=\"https://colab.research.google.com/assets/colab-badge.svg\" alt=\"Open In Colab\"/></a>"
      ]
    },
    {
      "cell_type": "code",
      "execution_count": 6,
      "metadata": {
        "id": "FEzkXApW5_g2"
      },
      "outputs": [],
      "source": [
        "import seaborn as sb\n",
        "import matplotlib.pyplot as plt"
      ]
    },
    {
      "cell_type": "code",
      "source": [
        "data = sb.load_dataset(\"tips\")\n",
        "print(data.head(6))"
      ],
      "metadata": {
        "colab": {
          "base_uri": "https://localhost:8080/"
        },
        "id": "w9HQtlGu6cr1",
        "outputId": "2e4ab95b-fad0-451d-f0e7-a35d25888ec9"
      },
      "execution_count": 9,
      "outputs": [
        {
          "output_type": "stream",
          "name": "stdout",
          "text": [
            "   total_bill   tip     sex smoker  day    time  size\n",
            "0       16.99  1.01  Female     No  Sun  Dinner     2\n",
            "1       10.34  1.66    Male     No  Sun  Dinner     3\n",
            "2       21.01  3.50    Male     No  Sun  Dinner     3\n",
            "3       23.68  3.31    Male     No  Sun  Dinner     2\n",
            "4       24.59  3.61  Female     No  Sun  Dinner     4\n",
            "5       25.29  4.71    Male     No  Sun  Dinner     4\n"
          ]
        }
      ]
    },
    {
      "cell_type": "code",
      "source": [
        "print(data.describe())"
      ],
      "metadata": {
        "id": "081cn9qh7Of1",
        "colab": {
          "base_uri": "https://localhost:8080/"
        },
        "outputId": "07d5f4ba-194f-4a2a-da36-35f5652b7ce7"
      },
      "execution_count": 10,
      "outputs": [
        {
          "output_type": "stream",
          "name": "stdout",
          "text": [
            "       total_bill         tip        size\n",
            "count  244.000000  244.000000  244.000000\n",
            "mean    19.785943    2.998279    2.569672\n",
            "std      8.902412    1.383638    0.951100\n",
            "min      3.070000    1.000000    1.000000\n",
            "25%     13.347500    2.000000    2.000000\n",
            "50%     17.795000    2.900000    2.000000\n",
            "75%     24.127500    3.562500    3.000000\n",
            "max     50.810000   10.000000    6.000000\n"
          ]
        }
      ]
    },
    {
      "cell_type": "code",
      "source": [
        "def hist_bill():\n",
        "   bill =data[\"total_bill\"]\n",
        "   plt.hist(bill,bins=5)\n",
        "hist_bill()"
      ],
      "metadata": {
        "colab": {
          "base_uri": "https://localhost:8080/",
          "height": 245
        },
        "id": "9lnFAThT9iUY",
        "outputId": "5ac33dd5-5ce7-47a9-96a8-61286417a0e9"
      },
      "execution_count": 13,
      "outputs": [
        {
          "output_type": "display_data",
          "data": {
            "text/plain": [
              "<Figure size 640x480 with 1 Axes>"
            ],
            "image/png": "[encoded data removed]"
          },
          "metadata": {}
        }
      ]
    }
  ]
}