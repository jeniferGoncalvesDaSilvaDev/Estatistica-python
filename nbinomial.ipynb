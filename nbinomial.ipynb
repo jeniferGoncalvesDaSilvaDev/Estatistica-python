{
  "nbformat": 4,
  "nbformat_minor": 0,
  "metadata": {
    "colab": {
      "provenance": [],
      "authorship_tag": "ABX9TyO8b7twdijqa6exVHfrWno3",
      "include_colab_link": true
    },
    "kernelspec": {
      "name": "python3",
      "display_name": "Python 3"
    },
    "language_info": {
      "name": "python"
    }
  },
  "cells": [
    {
      "cell_type": "markdown",
      "metadata": {
        "id": "view-in-github",
        "colab_type": "text"
      },
      "source": [
        "<a href=\"https://colab.research.google.com/github/jeniferGoncalvesDaSilvaDev/Estatistica-python/blob/main/nbinomial.ipynb\" target=\"_parent\"><img src=\"https://colab.research.google.com/assets/colab-badge.svg\" alt=\"Open In Colab\"/></a>"
      ]
    },
    {
      "cell_type": "code",
      "execution_count": 1,
      "metadata": {
        "id": "UvQez2qBPgOt"
      },
      "outputs": [],
      "source": [
        "from scipy.stats import nbinom\n",
        "import numpy as np"
      ]
    },
    {
      "cell_type": "code",
      "source": [
        "#calcular de cair 3 vezes cara em uma moeda,sendo coroa 5 vezes sendo 10 tentativas feitas\n",
        "# o r é falha do experimento\n",
        "r = 5\n",
        "k =3\n",
        "p =0.5\n",
        "n_tentativas = nbinom.pmf(r,k,p)\n",
        "print(n_tentativas*100)"
      ],
      "metadata": {
        "colab": {
          "base_uri": "https://localhost:8080/"
        },
        "id": "ONIkoUa2Pq8S",
        "outputId": "e0b632fa-fe39-4796-ee83-259b3faad69a"
      },
      "execution_count": null,
      "outputs": [
        {
          "output_type": "stream",
          "name": "stdout",
          "text": [
            "8.203125000000002\n"
          ]
        }
      ]
    },
    {
      "cell_type": "code",
      "source": [
        "#probabilidade de tentativas necessárias para se obter 2 em um dado de 6 faces\n",
        "# 0 sucesso\n",
        "n =6\n",
        "p=1/6\n",
        "k =2\n",
        "falhas = np.arange(0,n+1)\n",
        "p_n = nbinom.pmf(falhas, k,p)\n",
        "#print(p_n)\n",
        "for i, prob in zip(falhas,p_n):\n",
        "    print(i)\n",
        "    print(prob*100)"
      ],
      "metadata": {
        "id": "A3KtJ0VWRa6Q",
        "outputId": "8d4f4667-8991-495d-efa6-2cebe9b0a045",
        "colab": {
          "base_uri": "https://localhost:8080/"
        }
      },
      "execution_count": 7,
      "outputs": [
        {
          "output_type": "stream",
          "name": "stdout",
          "text": [
            "0\n",
            "2.777777777777778\n",
            "1\n",
            "4.629629629629629\n",
            "2\n",
            "5.787037037037038\n",
            "3\n",
            "6.430041152263372\n",
            "4\n",
            "6.69795953360768\n",
            "5\n",
            "6.69795953360768\n",
            "6\n",
            "6.511905102118579\n"
          ]
        }
      ]
    }
  ]
}