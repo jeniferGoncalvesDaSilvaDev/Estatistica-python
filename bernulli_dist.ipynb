{
  "nbformat": 4,
  "nbformat_minor": 0,
  "metadata": {
    "colab": {
      "provenance": [],
      "authorship_tag": "ABX9TyOa+gBDvZM0ORIPUgiaXQld",
      "include_colab_link": true
    },
    "kernelspec": {
      "name": "python3",
      "display_name": "Python 3"
    },
    "language_info": {
      "name": "python"
    }
  },
  "cells": [
    {
      "cell_type": "markdown",
      "metadata": {
        "id": "view-in-github",
        "colab_type": "text"
      },
      "source": [
        "<a href=\"https://colab.research.google.com/github/jeniferGoncalvesDaSilvaDev/Estatistica-python/blob/main/bernulli_dist.ipynb\" target=\"_parent\"><img src=\"https://colab.research.google.com/assets/colab-badge.svg\" alt=\"Open In Colab\"/></a>"
      ]
    },
    {
      "cell_type": "code",
      "source": [
        "from scipy.stats import bernoulli"
      ],
      "metadata": {
        "id": "v1c7ZcS6nFUC"
      },
      "execution_count": 2,
      "outputs": []
    },
    {
      "cell_type": "code",
      "source": [
        "p =0.5\n",
        "rv=bernoulli(p)\n",
        "print(rv)\n",
        "sucesso = rv.pmf(1)\n",
        "fracasso = rv.pmf(0)\n",
        "print(sucesso)\n",
        "print(fracasso)"
      ],
      "metadata": {
        "id": "4wX1tQlpnTDD",
        "outputId": "18612100-79a4-454b-b5f0-61b57d755969",
        "colab": {
          "base_uri": "https://localhost:8080/"
        }
      },
      "execution_count": 5,
      "outputs": [
        {
          "output_type": "stream",
          "name": "stdout",
          "text": [
            "<scipy.stats._distn_infrastructure.rv_discrete_frozen object at 0x7ecbfe969900>\n",
            "0.5\n",
            "0.5000000000000001\n"
          ]
        }
      ]
    }
  ]
}