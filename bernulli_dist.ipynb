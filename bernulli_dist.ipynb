{
  "nbformat": 4,
  "nbformat_minor": 0,
  "metadata": {
    "colab": {
      "provenance": [],
      "include_colab_link": true
    },
    "kernelspec": {
      "name": "python3",
      "display_name": "Python 3"
    },
    "language_info": {
      "name": "python"
    }
  },
  "cells": [
    {
      "cell_type": "markdown",
      "metadata": {
        "id": "view-in-github",
        "colab_type": "text"
      },
      "source": [
        "<a href=\"https://colab.research.google.com/github/jeniferGoncalvesDaSilvaDev/Estatistica-python/blob/main/bernulli_dist.ipynb\" target=\"_parent\"><img src=\"https://colab.research.google.com/assets/colab-badge.svg\" alt=\"Open In Colab\"/></a>"
      ]
    },
    {
      "cell_type": "code",
      "source": [
        "from scipy.stats import bernoulli\n",
        "import seaborn as sb"
      ],
      "metadata": {
        "id": "v1c7ZcS6nFUC"
      },
      "execution_count": 1,
      "outputs": []
    },
    {
      "cell_type": "code",
      "source": [
        "p =0.5\n",
        "rv=bernoulli(p)\n",
        "print(rv)\n",
        "sucesso = rv.pmf(1)\n",
        "fracasso = rv.pmf(0)\n",
        "print(sucesso)\n",
        "print(fracasso)"
      ],
      "metadata": {
        "id": "4wX1tQlpnTDD",
        "outputId": "18612100-79a4-454b-b5f0-61b57d755969",
        "colab": {
          "base_uri": "https://localhost:8080/"
        }
      },
      "execution_count": null,
      "outputs": [
        {
          "output_type": "stream",
          "name": "stdout",
          "text": [
            "<scipy.stats._distn_infrastructure.rv_discrete_frozen object at 0x7ecbfe969900>\n",
            "0.5\n",
            "0.5000000000000001\n"
          ]
        }
      ]
    },
    {
      "cell_type": "code",
      "source": [
        "lista_p= [0.48,0.75]\n",
        "prob_sucess_fail= bernoulli(lista_p)\n",
        "print(prob_sucess_fail)\n",
        "sucess= prob_sucess_fail.pmf(1)\n",
        "fail= prob_sucess_fail.pmf(0)\n",
        "print(sucess,fail)\n",
        "chance_votos = [sucess,fail]\n",
        "s=chance_votos[0][1]\n",
        "f=chance_votos[1][1]\n",
        "p_votos=[s,f]\n",
        "print(p_votos)"
      ],
      "metadata": {
        "id": "q_KYiKxmqk-k",
        "outputId": "00afeb82-4666-4da8-aae0-4fdf12e201e9",
        "colab": {
          "base_uri": "https://localhost:8080/"
        }
      },
      "execution_count": 2,
      "outputs": [
        {
          "output_type": "stream",
          "name": "stdout",
          "text": [
            "<scipy.stats._distn_infrastructure.rv_discrete_frozen object at 0x782b3928cfa0>\n",
            "[0.48 0.75] [0.52 0.25]\n",
            "[0.75, 0.25000000000000006]\n"
          ]
        }
      ]
    },
    {
      "cell_type": "code",
      "source": [
        "sb.histplot(chance_votos,kde=True)"
      ],
      "metadata": {
        "id": "gjE14h9lQcoJ",
        "outputId": "fef6be45-2e77-480a-a680-7e1a56059360",
        "colab": {
          "base_uri": "https://localhost:8080/"
        }
      },
      "execution_count": 26,
      "outputs": [
        {
          "output_type": "execute_result",
          "data": {
            "text/plain": [
              "<Axes: ylabel='Count'>"
            ]
          },
          "metadata": {},
          "execution_count": 26
        },
        {
          "output_type": "display_data",
          "data": {
            "text/plain": [
              "<Figure size 640x480 with 1 Axes>"
            ],
            "image/png": "[encoded data removed]"
          },
          "metadata": {}
        }
      ]
    },
    {
      "cell_type": "code",
      "source": [
        "\n",
        "#para dados grandes\n",
        "lista_p = [0.48, 0.75]\n",
        "rvd = []\n",
        "\n",
        "for p in lista_p:\n",
        "    rv = bernoulli(p)\n",
        "    rvd.append(rv.pmf(1))\n",
        "    rvd.append(rv.pmf(0))\n",
        "\n",
        "print(rvd)"
      ],
      "metadata": {
        "id": "0L_YrDNEK52H",
        "outputId": "92f4e598-13de-46fd-fea5-724134a4cc75",
        "colab": {
          "base_uri": "https://localhost:8080/"
        }
      },
      "execution_count": null,
      "outputs": [
        {
          "output_type": "stream",
          "name": "stdout",
          "text": [
            "[0.48, 0.52, 0.75, 0.25000000000000006]\n"
          ]
        }
      ]
    }
  ]
}