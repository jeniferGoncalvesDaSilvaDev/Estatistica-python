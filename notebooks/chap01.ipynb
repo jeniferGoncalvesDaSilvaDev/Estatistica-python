{
  "cells": [
    {
      "cell_type": "markdown",
      "metadata": {
        "id": "1331faa1"
      },
      "source": [
        "You can order print and ebook versions of *Think Bayes 2e* from\n",
        "[Bookshop.org](https://bookshop.org/a/98697/9781492089469) and\n",
        "[Amazon](https://amzn.to/334eqGo)."
      ]
    },
    {
      "cell_type": "markdown",
      "metadata": {
        "id": "GZ3P7Gy4n6kI"
      },
      "source": [
        "# Probability"
      ]
    },
    {
      "cell_type": "markdown",
      "metadata": {
        "tags": [],
        "id": "TI7eYPFWn6kK"
      },
      "source": [
        "Think Bayes, Second Edition\n",
        "\n",
        "Copyright 2020 Allen B. Downey\n",
        "\n",
        "License: [Attribution-NonCommercial-ShareAlike 4.0 International (CC BY-NC-SA 4.0)](https://creativecommons.org/licenses/by-nc-sa/4.0/)"
      ]
    },
    {
      "cell_type": "markdown",
      "metadata": {
        "id": "g95p9fLjn6kL"
      },
      "source": [
        "The foundation of Bayesian statistics is Bayes's Theorem, and the foundation of Bayes's Theorem is conditional probability.  \n",
        "\n",
        "In this chapter, we'll start with conditional probability, derive Bayes's Theorem, and demonstrate it using a real dataset.  In the next chapter, we'll use Bayes's Theorem to solve problems related to conditional probability.  In the chapters that follow, we'll make the transition from Bayes's Theorem to Bayesian statistics, and I'll explain the difference."
      ]
    },
    {
      "cell_type": "markdown",
      "metadata": {
        "id": "7og-rgiyn6kN"
      },
      "source": [
        "## Linda the Banker\n",
        "\n",
        "To introduce conditional probability, I'll use an example from a [famous experiment by Tversky and Kahneman](https://en.wikipedia.org/wiki/Conjunction_fallacy), who posed the following question:\n",
        "\n",
        "> Linda is 31 years old, single, outspoken, and very bright. She majored in philosophy. As a student, she was deeply concerned with issues of discrimination and social justice, and also participated in anti-nuclear demonstrations.  Which is more probable?\n",
        "> 1. Linda is a bank teller.\n",
        "> 2. Linda is a bank teller and is active in the feminist movement.\n",
        "\n",
        "Many people choose the second answer, presumably because it seems more consistent with the description.  It seems uncharacteristic if Linda is *just* a bank teller; it seems more consistent if she is also a feminist."
      ]
    },
    {
      "cell_type": "markdown",
      "metadata": {
        "id": "XbECpc7Vn6kO"
      },
      "source": [
        "But the second answer cannot be \"more probable\", as the question asks.  Suppose we find 1000 people who fit Linda's description and 10 of them work as bank tellers.  How many of them are also feminists?  At most, all 10 of them are; in that case, the two options are *equally* probable.  If fewer than 10 are, the second option is *less* probable.  But there is no way the second option can be *more* probable.\n",
        "\n",
        "If you were inclined to choose the second option, you are in good company.  The biologist [Stephen J. Gould wrote](https://doi.org/10.1080/09332480.1989.10554932) :\n",
        "\n",
        "> I am particularly fond of this example because I know that the [second] statement is least probable, yet a little [homunculus](https://en.wikipedia.org/wiki/Homunculus_argument) in my head continues to jump up and down, shouting at me, \"but she can't just be a bank teller; read the description.\"\n",
        "\n",
        "If the little person in your head is still unhappy, maybe this chapter will help."
      ]
    },
    {
      "cell_type": "markdown",
      "metadata": {
        "id": "zNz-dfxrn6kQ"
      },
      "source": [
        "## Probability\n",
        "\n",
        "At this point I should provide a definition of \"probability\", but that [turns out to be surprisingly difficult](https://en.wikipedia.org/wiki/Probability_interpretations).  To avoid getting stuck before we start, we will use a simple definition for now and refine it later: A **probability** is a fraction of a finite set.\n",
        "\n",
        "For example, if we survey 1000 people, and 20 of them are bank tellers, the fraction that work as bank tellers is 0.02 or 2\\%.  If we choose a person from this population at random, the probability that they are a bank teller is 2\\%.\n",
        "By \"at random\" I mean that every person in the dataset has the same chance of being chosen.\n",
        "\n",
        "With this definition and an appropriate dataset, we can compute probabilities by counting.\n",
        "To demonstrate, I'll use data from the [General Social Survey](http://gss.norc.org/) (GSS).  "
      ]
    },
    {
      "cell_type": "markdown",
      "metadata": {
        "tags": [],
        "id": "UkmEhsyHn6kR"
      },
      "source": [
        "The following cell downloads the data."
      ]
    },
    {
      "cell_type": "code",
      "execution_count": 1,
      "metadata": {
        "execution": {
          "iopub.execute_input": "2021-04-16T19:35:08.628591Z",
          "iopub.status.busy": "2021-04-16T19:35:08.627766Z",
          "iopub.status.idle": "2021-04-16T19:35:08.630508Z",
          "shell.execute_reply": "2021-04-16T19:35:08.629988Z"
        },
        "tags": [],
        "id": "XD2r1hh_n6kT",
        "outputId": "e2b37479-da65-436d-a2cd-da122c57f6f3",
        "colab": {
          "base_uri": "https://localhost:8080/"
        }
      },
      "outputs": [
        {
          "output_type": "stream",
          "name": "stdout",
          "text": [
            "Downloaded gss_bayes.csv\n"
          ]
        }
      ],
      "source": [
        "# Load the data file\n",
        "\n",
        "from os.path import basename, exists\n",
        "\n",
        "def download(url):\n",
        "    filename = basename(url)\n",
        "    if not exists(filename):\n",
        "        from urllib.request import urlretrieve\n",
        "        local, _ = urlretrieve(url, filename)\n",
        "        print('Downloaded ' + local)\n",
        "\n",
        "download('https://github.com/AllenDowney/ThinkBayes2/raw/master/data/gss_bayes.csv')"
      ]
    },
    {
      "cell_type": "markdown",
      "metadata": {
        "id": "dv5nKbM-n6kW"
      },
      "source": [
        "I'll use Pandas to read the data and store it in a `DataFrame`."
      ]
    },
    {
      "cell_type": "code",
      "execution_count": 2,
      "metadata": {
        "execution": {
          "iopub.execute_input": "2021-04-16T19:35:08.634488Z",
          "iopub.status.busy": "2021-04-16T19:35:08.633720Z",
          "iopub.status.idle": "2021-04-16T19:35:09.081049Z",
          "shell.execute_reply": "2021-04-16T19:35:09.081454Z"
        },
        "id": "o86rbmN_n6kY",
        "outputId": "e4ff4625-3114-4d02-dd98-ac83cbe13a6d",
        "colab": {
          "base_uri": "https://localhost:8080/",
          "height": 226
        }
      },
      "outputs": [
        {
          "output_type": "execute_result",
          "data": {
            "text/plain": [
              "   caseid  year   age  sex  polviews  partyid  indus10\n",
              "0       1  1974  21.0    1       4.0      2.0   4970.0\n",
              "1       2  1974  41.0    1       5.0      0.0   9160.0\n",
              "2       5  1974  58.0    2       6.0      1.0   2670.0\n",
              "3       6  1974  30.0    1       5.0      4.0   6870.0\n",
              "4       7  1974  48.0    1       5.0      4.0   7860.0"
            ],
            "text/html": [
              "\n",
              "  <div id=\"df-3eeef9ed-941e-41eb-aa14-5c5a60742e2e\" class=\"colab-df-container\">\n",
              "    <div>\n",
              "<style scoped>\n",
              "    .dataframe tbody tr th:only-of-type {\n",
              "        vertical-align: middle;\n",
              "    }\n",
              "\n",
              "    .dataframe tbody tr th {\n",
              "        vertical-align: top;\n",
              "    }\n",
              "\n",
              "    .dataframe thead th {\n",
              "        text-align: right;\n",
              "    }\n",
              "</style>\n",
              "<table border=\"1\" class=\"dataframe\">\n",
              "  <thead>\n",
              "    <tr style=\"text-align: right;\">\n",
              "      <th></th>\n",
              "      <th>caseid</th>\n",
              "      <th>year</th>\n",
              "      <th>age</th>\n",
              "      <th>sex</th>\n",
              "      <th>polviews</th>\n",
              "      <th>partyid</th>\n",
              "      <th>indus10</th>\n",
              "    </tr>\n",
              "  </thead>\n",
              "  <tbody>\n",
              "    <tr>\n",
              "      <th>0</th>\n",
              "      <td>1</td>\n",
              "      <td>1974</td>\n",
              "      <td>21.0</td>\n",
              "      <td>1</td>\n",
              "      <td>4.0</td>\n",
              "      <td>2.0</td>\n",
              "      <td>4970.0</td>\n",
              "    </tr>\n",
              "    <tr>\n",
              "      <th>1</th>\n",
              "      <td>2</td>\n",
              "      <td>1974</td>\n",
              "      <td>41.0</td>\n",
              "      <td>1</td>\n",
              "      <td>5.0</td>\n",
              "      <td>0.0</td>\n",
              "      <td>9160.0</td>\n",
              "    </tr>\n",
              "    <tr>\n",
              "      <th>2</th>\n",
              "      <td>5</td>\n",
              "      <td>1974</td>\n",
              "      <td>58.0</td>\n",
              "      <td>2</td>\n",
              "      <td>6.0</td>\n",
              "      <td>1.0</td>\n",
              "      <td>2670.0</td>\n",
              "    </tr>\n",
              "    <tr>\n",
              "      <th>3</th>\n",
              "      <td>6</td>\n",
              "      <td>1974</td>\n",
              "      <td>30.0</td>\n",
              "      <td>1</td>\n",
              "      <td>5.0</td>\n",
              "      <td>4.0</td>\n",
              "      <td>6870.0</td>\n",
              "    </tr>\n",
              "    <tr>\n",
              "      <th>4</th>\n",
              "      <td>7</td>\n",
              "      <td>1974</td>\n",
              "      <td>48.0</td>\n",
              "      <td>1</td>\n",
              "      <td>5.0</td>\n",
              "      <td>4.0</td>\n",
              "      <td>7860.0</td>\n",
              "    </tr>\n",
              "  </tbody>\n",
              "</table>\n",
              "</div>\n",
              "    <div class=\"colab-df-buttons\">\n",
              "\n",
              "  <div class=\"colab-df-container\">\n",
              "    <button class=\"colab-df-convert\" onclick=\"convertToInteractive('df-3eeef9ed-941e-41eb-aa14-5c5a60742e2e')\"\n",
              "            title=\"Convert this dataframe to an interactive table.\"\n",
              "            style=\"display:none;\">\n",
              "\n",
              "  <svg xmlns=\"http://www.w3.org/2000/svg\" height=\"24px\" viewBox=\"0 -960 960 960\">\n",
              "    <path d=\"M120-120v-720h720v720H120Zm60-500h600v-160H180v160Zm220 220h160v-160H400v160Zm0 220h160v-160H400v160ZM180-400h160v-160H180v160Zm440 0h160v-160H620v160ZM180-180h160v-160H180v160Zm440 0h160v-160H620v160Z\"/>\n",
              "  </svg>\n",
              "    </button>\n",
              "\n",
              "  <style>\n",
              "    .colab-df-container {\n",
              "      display:flex;\n",
              "      gap: 12px;\n",
              "    }\n",
              "\n",
              "    .colab-df-convert {\n",
              "      background-color: #E8F0FE;\n",
              "      border: none;\n",
              "      border-radius: 50%;\n",
              "      cursor: pointer;\n",
              "      display: none;\n",
              "      fill: #1967D2;\n",
              "      height: 32px;\n",
              "      padding: 0 0 0 0;\n",
              "      width: 32px;\n",
              "    }\n",
              "\n",
              "    .colab-df-convert:hover {\n",
              "      background-color: #E2EBFA;\n",
              "      box-shadow: 0px 1px 2px rgba(60, 64, 67, 0.3), 0px 1px 3px 1px rgba(60, 64, 67, 0.15);\n",
              "      fill: #174EA6;\n",
              "    }\n",
              "\n",
              "    .colab-df-buttons div {\n",
              "      margin-bottom: 4px;\n",
              "    }\n",
              "\n",
              "    [theme=dark] .colab-df-convert {\n",
              "      background-color: #3B4455;\n",
              "      fill: #D2E3FC;\n",
              "    }\n",
              "\n",
              "    [theme=dark] .colab-df-convert:hover {\n",
              "      background-color: #434B5C;\n",
              "      box-shadow: 0px 1px 3px 1px rgba(0, 0, 0, 0.15);\n",
              "      filter: drop-shadow(0px 1px 2px rgba(0, 0, 0, 0.3));\n",
              "      fill: #FFFFFF;\n",
              "    }\n",
              "  </style>\n",
              "\n",
              "    <script>\n",
              "      const buttonEl =\n",
              "        document.querySelector('#df-3eeef9ed-941e-41eb-aa14-5c5a60742e2e button.colab-df-convert');\n",
              "      buttonEl.style.display =\n",
              "        google.colab.kernel.accessAllowed ? 'block' : 'none';\n",
              "\n",
              "      async function convertToInteractive(key) {\n",
              "        const element = document.querySelector('#df-3eeef9ed-941e-41eb-aa14-5c5a60742e2e');\n",
              "        const dataTable =\n",
              "          await google.colab.kernel.invokeFunction('convertToInteractive',\n",
              "                                                    [key], {});\n",
              "        if (!dataTable) return;\n",
              "\n",
              "        const docLinkHtml = 'Like what you see? Visit the ' +\n",
              "          '<a target=\"_blank\" href=https://colab.research.google.com/notebooks/data_table.ipynb>data table notebook</a>'\n",
              "          + ' to learn more about interactive tables.';\n",
              "        element.innerHTML = '';\n",
              "        dataTable['output_type'] = 'display_data';\n",
              "        await google.colab.output.renderOutput(dataTable, element);\n",
              "        const docLink = document.createElement('div');\n",
              "        docLink.innerHTML = docLinkHtml;\n",
              "        element.appendChild(docLink);\n",
              "      }\n",
              "    </script>\n",
              "  </div>\n",
              "\n",
              "\n",
              "    <div id=\"df-4dedb3ca-2a3d-4a4b-9e5b-bd5f188f8359\">\n",
              "      <button class=\"colab-df-quickchart\" onclick=\"quickchart('df-4dedb3ca-2a3d-4a4b-9e5b-bd5f188f8359')\"\n",
              "                title=\"Suggest charts\"\n",
              "                style=\"display:none;\">\n",
              "\n",
              "<svg xmlns=\"http://www.w3.org/2000/svg\" height=\"24px\"viewBox=\"0 0 24 24\"\n",
              "     width=\"24px\">\n",
              "    <g>\n",
              "        <path d=\"M19 3H5c-1.1 0-2 .9-2 2v14c0 1.1.9 2 2 2h14c1.1 0 2-.9 2-2V5c0-1.1-.9-2-2-2zM9 17H7v-7h2v7zm4 0h-2V7h2v10zm4 0h-2v-4h2v4z\"/>\n",
              "    </g>\n",
              "</svg>\n",
              "      </button>\n",
              "\n",
              "<style>\n",
              "  .colab-df-quickchart {\n",
              "      --bg-color: #E8F0FE;\n",
              "      --fill-color: #1967D2;\n",
              "      --hover-bg-color: #E2EBFA;\n",
              "      --hover-fill-color: #174EA6;\n",
              "      --disabled-fill-color: #AAA;\n",
              "      --disabled-bg-color: #DDD;\n",
              "  }\n",
              "\n",
              "  [theme=dark] .colab-df-quickchart {\n",
              "      --bg-color: #3B4455;\n",
              "      --fill-color: #D2E3FC;\n",
              "      --hover-bg-color: #434B5C;\n",
              "      --hover-fill-color: #FFFFFF;\n",
              "      --disabled-bg-color: #3B4455;\n",
              "      --disabled-fill-color: #666;\n",
              "  }\n",
              "\n",
              "  .colab-df-quickchart {\n",
              "    background-color: var(--bg-color);\n",
              "    border: none;\n",
              "    border-radius: 50%;\n",
              "    cursor: pointer;\n",
              "    display: none;\n",
              "    fill: var(--fill-color);\n",
              "    height: 32px;\n",
              "    padding: 0;\n",
              "    width: 32px;\n",
              "  }\n",
              "\n",
              "  .colab-df-quickchart:hover {\n",
              "    background-color: var(--hover-bg-color);\n",
              "    box-shadow: 0 1px 2px rgba(60, 64, 67, 0.3), 0 1px 3px 1px rgba(60, 64, 67, 0.15);\n",
              "    fill: var(--button-hover-fill-color);\n",
              "  }\n",
              "\n",
              "  .colab-df-quickchart-complete:disabled,\n",
              "  .colab-df-quickchart-complete:disabled:hover {\n",
              "    background-color: var(--disabled-bg-color);\n",
              "    fill: var(--disabled-fill-color);\n",
              "    box-shadow: none;\n",
              "  }\n",
              "\n",
              "  .colab-df-spinner {\n",
              "    border: 2px solid var(--fill-color);\n",
              "    border-color: transparent;\n",
              "    border-bottom-color: var(--fill-color);\n",
              "    animation:\n",
              "      spin 1s steps(1) infinite;\n",
              "  }\n",
              "\n",
              "  @keyframes spin {\n",
              "    0% {\n",
              "      border-color: transparent;\n",
              "      border-bottom-color: var(--fill-color);\n",
              "      border-left-color: var(--fill-color);\n",
              "    }\n",
              "    20% {\n",
              "      border-color: transparent;\n",
              "      border-left-color: var(--fill-color);\n",
              "      border-top-color: var(--fill-color);\n",
              "    }\n",
              "    30% {\n",
              "      border-color: transparent;\n",
              "      border-left-color: var(--fill-color);\n",
              "      border-top-color: var(--fill-color);\n",
              "      border-right-color: var(--fill-color);\n",
              "    }\n",
              "    40% {\n",
              "      border-color: transparent;\n",
              "      border-right-color: var(--fill-color);\n",
              "      border-top-color: var(--fill-color);\n",
              "    }\n",
              "    60% {\n",
              "      border-color: transparent;\n",
              "      border-right-color: var(--fill-color);\n",
              "    }\n",
              "    80% {\n",
              "      border-color: transparent;\n",
              "      border-right-color: var(--fill-color);\n",
              "      border-bottom-color: var(--fill-color);\n",
              "    }\n",
              "    90% {\n",
              "      border-color: transparent;\n",
              "      border-bottom-color: var(--fill-color);\n",
              "    }\n",
              "  }\n",
              "</style>\n",
              "\n",
              "      <script>\n",
              "        async function quickchart(key) {\n",
              "          const quickchartButtonEl =\n",
              "            document.querySelector('#' + key + ' button');\n",
              "          quickchartButtonEl.disabled = true;  // To prevent multiple clicks.\n",
              "          quickchartButtonEl.classList.add('colab-df-spinner');\n",
              "          try {\n",
              "            const charts = await google.colab.kernel.invokeFunction(\n",
              "                'suggestCharts', [key], {});\n",
              "          } catch (error) {\n",
              "            console.error('Error during call to suggestCharts:', error);\n",
              "          }\n",
              "          quickchartButtonEl.classList.remove('colab-df-spinner');\n",
              "          quickchartButtonEl.classList.add('colab-df-quickchart-complete');\n",
              "        }\n",
              "        (() => {\n",
              "          let quickchartButtonEl =\n",
              "            document.querySelector('#df-4dedb3ca-2a3d-4a4b-9e5b-bd5f188f8359 button');\n",
              "          quickchartButtonEl.style.display =\n",
              "            google.colab.kernel.accessAllowed ? 'block' : 'none';\n",
              "        })();\n",
              "      </script>\n",
              "    </div>\n",
              "\n",
              "    </div>\n",
              "  </div>\n"
            ],
            "application/vnd.google.colaboratory.intrinsic+json": {
              "type": "dataframe",
              "variable_name": "gss",
              "summary": "{\n  \"name\": \"gss\",\n  \"rows\": 49290,\n  \"fields\": [\n    {\n      \"column\": \"caseid\",\n      \"properties\": {\n        \"dtype\": \"number\",\n        \"std\": 848,\n        \"min\": 1,\n        \"max\": 4510,\n        \"num_unique_values\": 4376,\n        \"samples\": [\n          4421,\n          3556,\n          477\n        ],\n        \"semantic_type\": \"\",\n        \"description\": \"\"\n      }\n    },\n    {\n      \"column\": \"year\",\n      \"properties\": {\n        \"dtype\": \"number\",\n        \"std\": 12,\n        \"min\": 1974,\n        \"max\": 2016,\n        \"num_unique_values\": 29,\n        \"samples\": [\n          2014,\n          1993,\n          1988\n        ],\n        \"semantic_type\": \"\",\n        \"description\": \"\"\n      }\n    },\n    {\n      \"column\": \"age\",\n      \"properties\": {\n        \"dtype\": \"number\",\n        \"std\": 17.111419865577247,\n        \"min\": 18.0,\n        \"max\": 89.0,\n        \"num_unique_values\": 72,\n        \"samples\": [\n          48.0,\n          81.0,\n          60.0\n        ],\n        \"semantic_type\": \"\",\n        \"description\": \"\"\n      }\n    },\n    {\n      \"column\": \"sex\",\n      \"properties\": {\n        \"dtype\": \"number\",\n        \"std\": 0,\n        \"min\": 1,\n        \"max\": 2,\n        \"num_unique_values\": 2,\n        \"samples\": [\n          2,\n          1\n        ],\n        \"semantic_type\": \"\",\n        \"description\": \"\"\n      }\n    },\n    {\n      \"column\": \"polviews\",\n      \"properties\": {\n        \"dtype\": \"number\",\n        \"std\": 1.37716014636595,\n        \"min\": 1.0,\n        \"max\": 7.0,\n        \"num_unique_values\": 7,\n        \"samples\": [\n          4.0,\n          5.0\n        ],\n        \"semantic_type\": \"\",\n        \"description\": \"\"\n      }\n    },\n    {\n      \"column\": \"partyid\",\n      \"properties\": {\n        \"dtype\": \"number\",\n        \"std\": 2.0481080935727745,\n        \"min\": 0.0,\n        \"max\": 7.0,\n        \"num_unique_values\": 8,\n        \"samples\": [\n          0.0,\n          7.0\n        ],\n        \"semantic_type\": \"\",\n        \"description\": \"\"\n      }\n    },\n    {\n      \"column\": \"indus10\",\n      \"properties\": {\n        \"dtype\": \"number\",\n        \"std\": 2796.2950688567635,\n        \"min\": 170.0,\n        \"max\": 9870.0,\n        \"num_unique_values\": 270,\n        \"samples\": [\n          6670.0,\n          8560.0\n        ],\n        \"semantic_type\": \"\",\n        \"description\": \"\"\n      }\n    }\n  ]\n}"
            }
          },
          "metadata": {},
          "execution_count": 2
        }
      ],
      "source": [
        "import pandas as pd\n",
        "\n",
        "gss = pd.read_csv('gss_bayes.csv')\n",
        "gss.head()"
      ]
    },
    {
      "cell_type": "markdown",
      "metadata": {
        "id": "zO0qTatbn6kZ"
      },
      "source": [
        "The `DataFrame` has one row for each person surveyed and one column for each variable I selected.\n",
        "\n",
        "The columns are\n",
        "\n",
        "* `caseid`: Respondent identifier.\n",
        "\n",
        "* `year`: Year when the respondent was surveyed.\n",
        "\n",
        "* `age`: Respondent's age when surveyed.\n",
        "\n",
        "* `sex`: Male or female.\n",
        "\n",
        "* `polviews`: Political views on a range from liberal to conservative.\n",
        "\n",
        "* `partyid`: Political party affiliation, Democrat, Independent, or Republican.\n",
        "\n",
        "* `indus10`: [Code](https://www.census.gov/cgi-bin/sssd/naics/naicsrch?chart=2007) for the industry the respondent works in.\n",
        "\n",
        "Let's look at these variables in more detail, starting with `indus10`."
      ]
    },
    {
      "cell_type": "markdown",
      "metadata": {
        "id": "lD5fKK1Sn6ka"
      },
      "source": [
        "## Fraction of Bankers\n",
        "\n",
        "The code for \"Banking and related activities\" is 6870, so we can select bankers like this:"
      ]
    },
    {
      "cell_type": "code",
      "execution_count": 3,
      "metadata": {
        "execution": {
          "iopub.execute_input": "2021-04-16T19:35:09.085579Z",
          "iopub.status.busy": "2021-04-16T19:35:09.084990Z",
          "iopub.status.idle": "2021-04-16T19:35:09.096470Z",
          "shell.execute_reply": "2021-04-16T19:35:09.095986Z"
        },
        "id": "oLeYJxf5n6ka",
        "outputId": "e3a586e5-4625-41bb-b4e2-5c6c8e8dad6a",
        "colab": {
          "base_uri": "https://localhost:8080/",
          "height": 241
        }
      },
      "outputs": [
        {
          "output_type": "execute_result",
          "data": {
            "text/plain": [
              "0    False\n",
              "1    False\n",
              "2    False\n",
              "3     True\n",
              "4    False\n",
              "Name: indus10, dtype: bool"
            ],
            "text/html": [
              "<div>\n",
              "<style scoped>\n",
              "    .dataframe tbody tr th:only-of-type {\n",
              "        vertical-align: middle;\n",
              "    }\n",
              "\n",
              "    .dataframe tbody tr th {\n",
              "        vertical-align: top;\n",
              "    }\n",
              "\n",
              "    .dataframe thead th {\n",
              "        text-align: right;\n",
              "    }\n",
              "</style>\n",
              "<table border=\"1\" class=\"dataframe\">\n",
              "  <thead>\n",
              "    <tr style=\"text-align: right;\">\n",
              "      <th></th>\n",
              "      <th>indus10</th>\n",
              "    </tr>\n",
              "  </thead>\n",
              "  <tbody>\n",
              "    <tr>\n",
              "      <th>0</th>\n",
              "      <td>False</td>\n",
              "    </tr>\n",
              "    <tr>\n",
              "      <th>1</th>\n",
              "      <td>False</td>\n",
              "    </tr>\n",
              "    <tr>\n",
              "      <th>2</th>\n",
              "      <td>False</td>\n",
              "    </tr>\n",
              "    <tr>\n",
              "      <th>3</th>\n",
              "      <td>True</td>\n",
              "    </tr>\n",
              "    <tr>\n",
              "      <th>4</th>\n",
              "      <td>False</td>\n",
              "    </tr>\n",
              "  </tbody>\n",
              "</table>\n",
              "</div><br><label><b>dtype:</b> bool</label>"
            ]
          },
          "metadata": {},
          "execution_count": 3
        }
      ],
      "source": [
        "banker = (gss['indus10'] == 6870)\n",
        "banker.head()"
      ]
    },
    {
      "cell_type": "markdown",
      "metadata": {
        "id": "fiR1uv5zn6kb"
      },
      "source": [
        "The result is a Pandas `Series` that contains the Boolean values `True` and `False`.\n",
        "\n",
        "If we use the `sum` function on this `Series`, it treats `True` as 1 and `False` as 0, so the total is the number of bankers."
      ]
    },
    {
      "cell_type": "code",
      "execution_count": 4,
      "metadata": {
        "execution": {
          "iopub.execute_input": "2021-04-16T19:35:09.100573Z",
          "iopub.status.busy": "2021-04-16T19:35:09.100000Z",
          "iopub.status.idle": "2021-04-16T19:35:09.103808Z",
          "shell.execute_reply": "2021-04-16T19:35:09.103159Z"
        },
        "id": "ROGuXr6Jn6kb",
        "outputId": "9e487cf7-1122-4721-c717-b3217904ffe5",
        "colab": {
          "base_uri": "https://localhost:8080/"
        }
      },
      "outputs": [
        {
          "output_type": "execute_result",
          "data": {
            "text/plain": [
              "np.int64(728)"
            ]
          },
          "metadata": {},
          "execution_count": 4
        }
      ],
      "source": [
        "banker.sum()"
      ]
    },
    {
      "cell_type": "markdown",
      "metadata": {
        "id": "VYO7ziPJn6kb"
      },
      "source": [
        "In this dataset, there are 728 bankers.\n",
        "\n",
        "To compute the *fraction* of bankers, we can use the `mean` function, which computes the fraction of `True` values in the `Series`:"
      ]
    },
    {
      "cell_type": "code",
      "execution_count": 5,
      "metadata": {
        "execution": {
          "iopub.execute_input": "2021-04-16T19:35:09.108607Z",
          "iopub.status.busy": "2021-04-16T19:35:09.107935Z",
          "iopub.status.idle": "2021-04-16T19:35:09.110861Z",
          "shell.execute_reply": "2021-04-16T19:35:09.111310Z"
        },
        "id": "O9NOnYEyn6kc",
        "outputId": "5df75afa-ab51-46d0-fc58-fdedf87c991d",
        "colab": {
          "base_uri": "https://localhost:8080/"
        }
      },
      "outputs": [
        {
          "output_type": "execute_result",
          "data": {
            "text/plain": [
              "np.float64(0.014769730168391155)"
            ]
          },
          "metadata": {},
          "execution_count": 5
        }
      ],
      "source": [
        "banker.mean()"
      ]
    },
    {
      "cell_type": "markdown",
      "metadata": {
        "id": "vFyZGKnSn6kc"
      },
      "source": [
        "About 1.5% of the respondents work in banking, so if we choose a random person from the dataset, the probability they are a banker is about 1.5%."
      ]
    },
    {
      "cell_type": "markdown",
      "metadata": {
        "id": "VaUTQMxkn6kd"
      },
      "source": [
        "## The Probability Function\n",
        "\n",
        "I'll put the code from the previous section in a function that takes a Boolean series and returns a probability:"
      ]
    },
    {
      "cell_type": "code",
      "execution_count": 6,
      "metadata": {
        "execution": {
          "iopub.execute_input": "2021-04-16T19:35:09.115436Z",
          "iopub.status.busy": "2021-04-16T19:35:09.114857Z",
          "iopub.status.idle": "2021-04-16T19:35:09.116926Z",
          "shell.execute_reply": "2021-04-16T19:35:09.117430Z"
        },
        "id": "WkF7HiWgn6kd"
      },
      "outputs": [],
      "source": [
        "def prob(A):\n",
        "    \"\"\"Computes the probability of a proposition, A.\"\"\"\n",
        "    return A.mean()"
      ]
    },
    {
      "cell_type": "markdown",
      "metadata": {
        "id": "5sWE5kaLn6kd"
      },
      "source": [
        "So we can compute the fraction of bankers like this:"
      ]
    },
    {
      "cell_type": "code",
      "execution_count": 7,
      "metadata": {
        "execution": {
          "iopub.execute_input": "2021-04-16T19:35:09.121943Z",
          "iopub.status.busy": "2021-04-16T19:35:09.121067Z",
          "iopub.status.idle": "2021-04-16T19:35:09.124766Z",
          "shell.execute_reply": "2021-04-16T19:35:09.125312Z"
        },
        "id": "QxXYxo5dn6ke",
        "outputId": "6d08ddea-8c16-4b88-f600-8bc3054d6424",
        "colab": {
          "base_uri": "https://localhost:8080/"
        }
      },
      "outputs": [
        {
          "output_type": "execute_result",
          "data": {
            "text/plain": [
              "np.float64(0.014769730168391155)"
            ]
          },
          "metadata": {},
          "execution_count": 7
        }
      ],
      "source": [
        "prob(banker)"
      ]
    },
    {
      "cell_type": "markdown",
      "metadata": {
        "id": "a_Plollmn6ke"
      },
      "source": [
        "Now let's look at another variable in this dataset.\n",
        "The values of the column `sex` are encoded like this:\n",
        "\n",
        "```\n",
        "1    Male\n",
        "2    Female\n",
        "```\n",
        "\n",
        "So we can make a Boolean series that is `True` for female respondents and `False` otherwise."
      ]
    },
    {
      "cell_type": "code",
      "execution_count": 8,
      "metadata": {
        "execution": {
          "iopub.execute_input": "2021-04-16T19:35:09.133453Z",
          "iopub.status.busy": "2021-04-16T19:35:09.132833Z",
          "iopub.status.idle": "2021-04-16T19:35:09.135227Z",
          "shell.execute_reply": "2021-04-16T19:35:09.134787Z"
        },
        "id": "kEnzhZYGn6kf"
      },
      "outputs": [],
      "source": [
        "female = (gss['sex'] == 2)"
      ]
    },
    {
      "cell_type": "markdown",
      "metadata": {
        "id": "L1oojd8Ln6kf"
      },
      "source": [
        "And use it to compute the fraction of respondents who are women."
      ]
    },
    {
      "cell_type": "code",
      "execution_count": 9,
      "metadata": {
        "execution": {
          "iopub.execute_input": "2021-04-16T19:35:09.138777Z",
          "iopub.status.busy": "2021-04-16T19:35:09.138234Z",
          "iopub.status.idle": "2021-04-16T19:35:09.140987Z",
          "shell.execute_reply": "2021-04-16T19:35:09.140543Z"
        },
        "id": "eDYGh3MIn6kg",
        "outputId": "33b88f28-187f-4cae-fc5e-dc65f96d36b2",
        "colab": {
          "base_uri": "https://localhost:8080/"
        }
      },
      "outputs": [
        {
          "output_type": "execute_result",
          "data": {
            "text/plain": [
              "np.float64(0.5378575776019476)"
            ]
          },
          "metadata": {},
          "execution_count": 9
        }
      ],
      "source": [
        "prob(female)"
      ]
    },
    {
      "cell_type": "markdown",
      "metadata": {
        "id": "HXCTSw1jn6kg"
      },
      "source": [
        "The fraction of women in this dataset is higher than in the adult U.S. population because [the GSS does not include people living in institutions](https://gss.norc.org/faq) like prisons and military housing, and those populations are more likely to be male."
      ]
    },
    {
      "cell_type": "markdown",
      "metadata": {
        "id": "d5b3VBrRn6kh"
      },
      "source": [
        "## Political Views and Parties\n",
        "\n",
        "The other variables we'll consider are `polviews`, which describes the political views of the respondents, and `partyid`, which describes their affiliation with a political party.\n",
        "\n",
        "The values of `polviews` are on a seven-point scale:\n",
        "\n",
        "```\n",
        "1\tExtremely liberal\n",
        "2\tLiberal\n",
        "3\tSlightly liberal\n",
        "4\tModerate\n",
        "5\tSlightly conservative\n",
        "6\tConservative\n",
        "7\tExtremely conservative\n",
        "```\n",
        "\n",
        "I'll define `liberal` to be `True` for anyone whose response is \"Extremely liberal\", \"Liberal\", or \"Slightly liberal\"."
      ]
    },
    {
      "cell_type": "code",
      "execution_count": 10,
      "metadata": {
        "execution": {
          "iopub.execute_input": "2021-04-16T19:35:09.144820Z",
          "iopub.status.busy": "2021-04-16T19:35:09.144315Z",
          "iopub.status.idle": "2021-04-16T19:35:09.146158Z",
          "shell.execute_reply": "2021-04-16T19:35:09.146493Z"
        },
        "id": "Bp5UWWven6ki"
      },
      "outputs": [],
      "source": [
        "liberal = (gss['polviews'] <= 3)"
      ]
    },
    {
      "cell_type": "markdown",
      "metadata": {
        "id": "aFO5kK9_n6kj"
      },
      "source": [
        "Here's the fraction of respondents who are liberal by this definition."
      ]
    },
    {
      "cell_type": "code",
      "execution_count": 11,
      "metadata": {
        "execution": {
          "iopub.execute_input": "2021-04-16T19:35:09.150191Z",
          "iopub.status.busy": "2021-04-16T19:35:09.149628Z",
          "iopub.status.idle": "2021-04-16T19:35:09.152382Z",
          "shell.execute_reply": "2021-04-16T19:35:09.152013Z"
        },
        "id": "YlQkjvkvn6kj",
        "outputId": "09822ba2-275b-4263-a64e-f19c882a7a4e",
        "colab": {
          "base_uri": "https://localhost:8080/"
        }
      },
      "outputs": [
        {
          "output_type": "execute_result",
          "data": {
            "text/plain": [
              "np.float64(0.27374721038750255)"
            ]
          },
          "metadata": {},
          "execution_count": 11
        }
      ],
      "source": [
        "prob(liberal)"
      ]
    },
    {
      "cell_type": "markdown",
      "metadata": {
        "id": "xB_9UusKn6kk"
      },
      "source": [
        "If we choose a random person in this dataset, the probability they are liberal is about 27%."
      ]
    },
    {
      "cell_type": "markdown",
      "metadata": {
        "id": "gTWiMmCyn6kk"
      },
      "source": [
        "The values of `partyid` are encoded like this:\n",
        "\n",
        "```\n",
        "0\tStrong democrat\n",
        "1\tNot strong democrat\n",
        "2\tIndependent, near democrat\n",
        "3\tIndependent\n",
        "4\tIndependent, near republican\n",
        "5\tNot strong republican\n",
        "6\tStrong republican\n",
        "7\tOther party\n",
        "```\n",
        "\n",
        "I'll define `democrat` to include respondents who chose \"Strong democrat\" or \"Not strong democrat\":"
      ]
    },
    {
      "cell_type": "code",
      "execution_count": 12,
      "metadata": {
        "execution": {
          "iopub.execute_input": "2021-04-16T19:35:09.156357Z",
          "iopub.status.busy": "2021-04-16T19:35:09.155780Z",
          "iopub.status.idle": "2021-04-16T19:35:09.158246Z",
          "shell.execute_reply": "2021-04-16T19:35:09.157752Z"
        },
        "id": "2sjYRdcln6kk"
      },
      "outputs": [],
      "source": [
        "democrat = (gss['partyid'] <= 1)"
      ]
    },
    {
      "cell_type": "markdown",
      "metadata": {
        "id": "-zXVzXevn6kl"
      },
      "source": [
        "And here's the fraction of respondents who are Democrats, by this definition."
      ]
    },
    {
      "cell_type": "code",
      "execution_count": 13,
      "metadata": {
        "execution": {
          "iopub.execute_input": "2021-04-16T19:35:09.162885Z",
          "iopub.status.busy": "2021-04-16T19:35:09.162111Z",
          "iopub.status.idle": "2021-04-16T19:35:09.164826Z",
          "shell.execute_reply": "2021-04-16T19:35:09.165317Z"
        },
        "id": "rIHRnBbOn6kl",
        "outputId": "7993083a-fa5c-49ef-a816-b4d41830c562",
        "colab": {
          "base_uri": "https://localhost:8080/"
        }
      },
      "outputs": [
        {
          "output_type": "execute_result",
          "data": {
            "text/plain": [
              "np.float64(0.3662609048488537)"
            ]
          },
          "metadata": {},
          "execution_count": 13
        }
      ],
      "source": [
        "prob(democrat)"
      ]
    },
    {
      "cell_type": "markdown",
      "metadata": {
        "id": "8uf9JPdKn6kl"
      },
      "source": [
        "## Conjunction\n",
        "\n",
        "Now that we have a definition of probability and a function that computes it, let's move on to conjunction.\n",
        "\n",
        "\"Conjunction\" is another name for the logical `and` operation.  If you have two [propositions](https://en.wikipedia.org/wiki/Proposition), `A` and `B`, the conjunction `A and B` is `True` if both `A` and `B` are `True`, and `False` otherwise.\n",
        "\n",
        "If we have two Boolean series, we can use the `&` operator to compute their conjunction.\n",
        "For example, we have already computed the probability that a respondent is a banker."
      ]
    },
    {
      "cell_type": "code",
      "execution_count": 14,
      "metadata": {
        "execution": {
          "iopub.execute_input": "2021-04-16T19:35:09.169647Z",
          "iopub.status.busy": "2021-04-16T19:35:09.168929Z",
          "iopub.status.idle": "2021-04-16T19:35:09.171685Z",
          "shell.execute_reply": "2021-04-16T19:35:09.171252Z"
        },
        "id": "s_64YeC4n6kl",
        "outputId": "633dd45f-2ddb-4f29-c01d-cbdcef8ff3a7",
        "colab": {
          "base_uri": "https://localhost:8080/"
        }
      },
      "outputs": [
        {
          "output_type": "execute_result",
          "data": {
            "text/plain": [
              "np.float64(0.014769730168391155)"
            ]
          },
          "metadata": {},
          "execution_count": 14
        }
      ],
      "source": [
        "prob(banker)"
      ]
    },
    {
      "cell_type": "markdown",
      "metadata": {
        "id": "SrkNUwfbn6kw"
      },
      "source": [
        "And the probability that they are a Democrat:"
      ]
    },
    {
      "cell_type": "code",
      "execution_count": 15,
      "metadata": {
        "execution": {
          "iopub.execute_input": "2021-04-16T19:35:09.175131Z",
          "iopub.status.busy": "2021-04-16T19:35:09.174679Z",
          "iopub.status.idle": "2021-04-16T19:35:09.176933Z",
          "shell.execute_reply": "2021-04-16T19:35:09.177292Z"
        },
        "id": "6nvAuDhDn6kx",
        "outputId": "296a4278-d96d-4bd5-f492-8297f1535896",
        "colab": {
          "base_uri": "https://localhost:8080/"
        }
      },
      "outputs": [
        {
          "output_type": "execute_result",
          "data": {
            "text/plain": [
              "np.float64(0.3662609048488537)"
            ]
          },
          "metadata": {},
          "execution_count": 15
        }
      ],
      "source": [
        "prob(democrat)"
      ]
    },
    {
      "cell_type": "markdown",
      "metadata": {
        "id": "c4BkEQ4wn6ky"
      },
      "source": [
        "Now we can compute the probability that a respondent is a banker *and* a Democrat:"
      ]
    },
    {
      "cell_type": "code",
      "execution_count": 16,
      "metadata": {
        "execution": {
          "iopub.execute_input": "2021-04-16T19:35:09.180713Z",
          "iopub.status.busy": "2021-04-16T19:35:09.180011Z",
          "iopub.status.idle": "2021-04-16T19:35:09.183970Z",
          "shell.execute_reply": "2021-04-16T19:35:09.183516Z"
        },
        "id": "8U5NEcUun6ky",
        "outputId": "370edad3-8ebe-4e32-9e2e-4e118ac304c6",
        "colab": {
          "base_uri": "https://localhost:8080/"
        }
      },
      "outputs": [
        {
          "output_type": "execute_result",
          "data": {
            "text/plain": [
              "np.float64(0.004686548995739501)"
            ]
          },
          "metadata": {},
          "execution_count": 16
        }
      ],
      "source": [
        "prob(banker & democrat)"
      ]
    },
    {
      "cell_type": "markdown",
      "metadata": {
        "id": "rK0AXz_Vn6kz"
      },
      "source": [
        "As we should expect, `prob(banker & democrat)` is less than `prob(banker)`, because not all bankers are Democrats.\n",
        "\n",
        "We expect conjunction to be commutative; that is, `A & B` should be the same as `B & A`.  To check, we can also compute `prob(democrat & banker)`:"
      ]
    },
    {
      "cell_type": "code",
      "execution_count": 17,
      "metadata": {
        "execution": {
          "iopub.execute_input": "2021-04-16T19:35:09.187308Z",
          "iopub.status.busy": "2021-04-16T19:35:09.186747Z",
          "iopub.status.idle": "2021-04-16T19:35:09.189804Z",
          "shell.execute_reply": "2021-04-16T19:35:09.190185Z"
        },
        "id": "xmFJWIh0n6kz",
        "outputId": "0f7cdda0-2a5d-4563-c047-0edeed850989",
        "colab": {
          "base_uri": "https://localhost:8080/"
        }
      },
      "outputs": [
        {
          "output_type": "execute_result",
          "data": {
            "text/plain": [
              "np.float64(0.004686548995739501)"
            ]
          },
          "metadata": {},
          "execution_count": 17
        }
      ],
      "source": [
        "prob(democrat & banker)"
      ]
    },
    {
      "cell_type": "markdown",
      "metadata": {
        "id": "QEZ-vlqrn6k0"
      },
      "source": [
        "As expected, they are the same."
      ]
    },
    {
      "cell_type": "markdown",
      "metadata": {
        "id": "3CLDkaitn6k0"
      },
      "source": [
        "## Conditional Probability\n",
        "\n",
        "Conditional probability is a probability that depends on a condition, but that might not be the most helpful definition.  Here are some examples:\n",
        "\n",
        "* What is the probability that a respondent is a Democrat, given that they are liberal?\n",
        "\n",
        "* What is the probability that a respondent is female, given that they are a banker?\n",
        "\n",
        "* What is the probability that a respondent is liberal, given that they are female?\n",
        "\n",
        "Let's start with the first one, which we can interpret like this: \"Of all the respondents who are liberal, what fraction are Democrats?\"\n",
        "\n",
        "We can compute this probability in two steps:\n",
        "\n",
        "1. Select all respondents who are liberal.\n",
        "\n",
        "2. Compute the fraction of the selected respondents who are Democrats.\n",
        "\n",
        "To select liberal respondents, we can use the bracket operator, `[]`, like this:"
      ]
    },
    {
      "cell_type": "code",
      "execution_count": 18,
      "metadata": {
        "execution": {
          "iopub.execute_input": "2021-04-16T19:35:09.193582Z",
          "iopub.status.busy": "2021-04-16T19:35:09.192986Z",
          "iopub.status.idle": "2021-04-16T19:35:09.196312Z",
          "shell.execute_reply": "2021-04-16T19:35:09.195843Z"
        },
        "id": "d26517jcn6k1"
      },
      "outputs": [],
      "source": [
        "selected = democrat[liberal]"
      ]
    },
    {
      "cell_type": "markdown",
      "metadata": {
        "id": "aaQoUP4Mn6k2"
      },
      "source": [
        "`selected` contains the values of `democrat` for liberal respondents, so `prob(selected)` is the fraction of liberals who are Democrats:"
      ]
    },
    {
      "cell_type": "code",
      "execution_count": 19,
      "metadata": {
        "execution": {
          "iopub.execute_input": "2021-04-16T19:35:09.200734Z",
          "iopub.status.busy": "2021-04-16T19:35:09.199974Z",
          "iopub.status.idle": "2021-04-16T19:35:09.202760Z",
          "shell.execute_reply": "2021-04-16T19:35:09.203214Z"
        },
        "id": "K75D3RS2n6k2",
        "outputId": "6dfed3cc-fecb-4098-fa69-93d49f682a08",
        "colab": {
          "base_uri": "https://localhost:8080/"
        }
      },
      "outputs": [
        {
          "output_type": "execute_result",
          "data": {
            "text/plain": [
              "np.float64(0.5206403320240125)"
            ]
          },
          "metadata": {},
          "execution_count": 19
        }
      ],
      "source": [
        "prob(selected)"
      ]
    },
    {
      "cell_type": "markdown",
      "metadata": {
        "id": "UsjzXGMzn6k2"
      },
      "source": [
        "A little more than half of liberals are Democrats.  If that result is lower than you expected, keep in mind:\n",
        "\n",
        "1. We used a somewhat strict definition of \"Democrat\", excluding Independents who \"lean\" democratic.\n",
        "\n",
        "2. The dataset includes respondents as far back as 1974; in the early part of this interval, there was less alignment between political views and party affiliation, compared to the present.\n",
        "\n",
        "Let's try the second example, \"What is the probability that a respondent is female, given that they are a banker?\"\n",
        "We can interpret that to mean, \"Of all respondents who are bankers, what fraction are female?\"\n",
        "\n",
        "Again, we'll use the bracket operator to select only the bankers and `prob` to compute the fraction that are female."
      ]
    },
    {
      "cell_type": "code",
      "execution_count": 20,
      "metadata": {
        "execution": {
          "iopub.execute_input": "2021-04-16T19:35:09.206724Z",
          "iopub.status.busy": "2021-04-16T19:35:09.206015Z",
          "iopub.status.idle": "2021-04-16T19:35:09.209768Z",
          "shell.execute_reply": "2021-04-16T19:35:09.210120Z"
        },
        "id": "USmePVten6k3",
        "outputId": "0728989c-92fe-4f7c-c37f-5951d5d3af48",
        "colab": {
          "base_uri": "https://localhost:8080/"
        }
      },
      "outputs": [
        {
          "output_type": "execute_result",
          "data": {
            "text/plain": [
              "np.float64(0.7706043956043956)"
            ]
          },
          "metadata": {},
          "execution_count": 20
        }
      ],
      "source": [
        "selected = female[banker]\n",
        "prob(selected)"
      ]
    },
    {
      "cell_type": "markdown",
      "metadata": {
        "id": "C0hyBmNdn6k3"
      },
      "source": [
        "About 77% of the bankers in this dataset are female.\n",
        "\n",
        "Let's wrap this computation in a function.\n",
        "I'll define `conditional` to take two Boolean series, `proposition` and `given`, and compute the conditional probability of `proposition` conditioned on `given`:"
      ]
    },
    {
      "cell_type": "code",
      "execution_count": 21,
      "metadata": {
        "execution": {
          "iopub.execute_input": "2021-04-16T19:35:09.213058Z",
          "iopub.status.busy": "2021-04-16T19:35:09.212636Z",
          "iopub.status.idle": "2021-04-16T19:35:09.214860Z",
          "shell.execute_reply": "2021-04-16T19:35:09.214485Z"
        },
        "id": "-i8-VsxUn6k4"
      },
      "outputs": [],
      "source": [
        "def conditional(proposition, given):\n",
        "    \"\"\"Probability of A conditioned on given.\"\"\"\n",
        "    return prob(proposition[given])"
      ]
    },
    {
      "cell_type": "markdown",
      "metadata": {
        "id": "XZN4cI1Cn6k4"
      },
      "source": [
        "We can use `conditional` to compute the probability that a respondent is liberal given that they are female."
      ]
    },
    {
      "cell_type": "code",
      "execution_count": 22,
      "metadata": {
        "execution": {
          "iopub.execute_input": "2021-04-16T19:35:09.218614Z",
          "iopub.status.busy": "2021-04-16T19:35:09.218019Z",
          "iopub.status.idle": "2021-04-16T19:35:09.222351Z",
          "shell.execute_reply": "2021-04-16T19:35:09.221981Z"
        },
        "id": "d1UrxGNdn6k5",
        "outputId": "bf4baf61-9e1b-4ad2-f003-167afd40f797",
        "colab": {
          "base_uri": "https://localhost:8080/"
        }
      },
      "outputs": [
        {
          "output_type": "execute_result",
          "data": {
            "text/plain": [
              "np.float64(0.27581004111500884)"
            ]
          },
          "metadata": {},
          "execution_count": 22
        }
      ],
      "source": [
        "conditional(liberal, given=female)"
      ]
    },
    {
      "cell_type": "markdown",
      "metadata": {
        "id": "eC1N8C5En6k5"
      },
      "source": [
        "About 28% of female respondents are liberal.\n",
        "\n",
        "I included the keyword, `given`, along with the parameter, `female`, to make this expression more readable."
      ]
    },
    {
      "cell_type": "markdown",
      "metadata": {
        "id": "G803R_fUn6k6"
      },
      "source": [
        "## Conditional Probability Is Not Commutative\n",
        "\n",
        "We have seen that conjunction is commutative; that is, `prob(A & B)` is always equal to `prob(B & A)`.\n",
        "\n",
        "But conditional probability is *not* commutative; that is, `conditional(A, B)` is not the same as `conditional(B, A)`.\n",
        "\n",
        "That should be clear if we look at an example.  Previously, we computed the probability a respondent is female, given that they are banker."
      ]
    },
    {
      "cell_type": "code",
      "execution_count": 23,
      "metadata": {
        "execution": {
          "iopub.execute_input": "2021-04-16T19:35:09.225222Z",
          "iopub.status.busy": "2021-04-16T19:35:09.224726Z",
          "iopub.status.idle": "2021-04-16T19:35:09.228199Z",
          "shell.execute_reply": "2021-04-16T19:35:09.227808Z"
        },
        "id": "ziFrmqi8n6k6",
        "outputId": "71a54e0b-dce6-4dbd-fbda-d12509dad5ef",
        "colab": {
          "base_uri": "https://localhost:8080/"
        }
      },
      "outputs": [
        {
          "output_type": "execute_result",
          "data": {
            "text/plain": [
              "np.float64(0.7706043956043956)"
            ]
          },
          "metadata": {},
          "execution_count": 23
        }
      ],
      "source": [
        "conditional(female, given=banker)"
      ]
    },
    {
      "cell_type": "markdown",
      "metadata": {
        "id": "6-uKLQk1n6k7"
      },
      "source": [
        "The result shows that the majority of bankers are female.  That is not the same as the probability that a respondent is a banker, given that they are female:"
      ]
    },
    {
      "cell_type": "code",
      "execution_count": 24,
      "metadata": {
        "execution": {
          "iopub.execute_input": "2021-04-16T19:35:09.231432Z",
          "iopub.status.busy": "2021-04-16T19:35:09.230897Z",
          "iopub.status.idle": "2021-04-16T19:35:09.235411Z",
          "shell.execute_reply": "2021-04-16T19:35:09.235854Z"
        },
        "id": "RNBcZ9TNn6k7",
        "outputId": "eec6c92b-291c-4190-bc8c-2b89c85347f6",
        "colab": {
          "base_uri": "https://localhost:8080/"
        }
      },
      "outputs": [
        {
          "output_type": "execute_result",
          "data": {
            "text/plain": [
              "np.float64(0.02116102749801969)"
            ]
          },
          "metadata": {},
          "execution_count": 24
        }
      ],
      "source": [
        "conditional(banker, given=female)"
      ]
    },
    {
      "cell_type": "markdown",
      "metadata": {
        "id": "Ck3nJDATn6k8"
      },
      "source": [
        "Only about 2% of female respondents are bankers.\n",
        "\n",
        "I hope this example makes it clear that conditional probability is not commutative, and maybe it was already clear to you.  Nevertheless, it is a common error to confuse `conditional(A, B)` and `conditional(B, A)`.  We'll see some examples later."
      ]
    },
    {
      "cell_type": "markdown",
      "metadata": {
        "id": "EpykeLY7n6k8"
      },
      "source": [
        "## Condition and Conjunction\n",
        "\n",
        "We can combine conditional probability and conjunction.  For example, here's the probability a respondent is female, given that they are a liberal Democrat."
      ]
    },
    {
      "cell_type": "code",
      "execution_count": 25,
      "metadata": {
        "execution": {
          "iopub.execute_input": "2021-04-16T19:35:09.239595Z",
          "iopub.status.busy": "2021-04-16T19:35:09.239062Z",
          "iopub.status.idle": "2021-04-16T19:35:09.244206Z",
          "shell.execute_reply": "2021-04-16T19:35:09.244621Z"
        },
        "id": "SZaqLaSQn6k9",
        "outputId": "6d8e53f8-71df-46cb-dbcd-5ae0414754c5",
        "colab": {
          "base_uri": "https://localhost:8080/"
        }
      },
      "outputs": [
        {
          "output_type": "execute_result",
          "data": {
            "text/plain": [
              "np.float64(0.576085409252669)"
            ]
          },
          "metadata": {},
          "execution_count": 25
        }
      ],
      "source": [
        "conditional(female, given=liberal & democrat)"
      ]
    },
    {
      "cell_type": "markdown",
      "metadata": {
        "id": "MnlMbDuon6k9"
      },
      "source": [
        "About 57% of liberal Democrats are female.\n",
        "\n",
        "And here's the probability they are a liberal female, given that they are a banker:"
      ]
    },
    {
      "cell_type": "code",
      "execution_count": 26,
      "metadata": {
        "execution": {
          "iopub.execute_input": "2021-04-16T19:35:09.247749Z",
          "iopub.status.busy": "2021-04-16T19:35:09.247310Z",
          "iopub.status.idle": "2021-04-16T19:35:09.251132Z",
          "shell.execute_reply": "2021-04-16T19:35:09.250686Z"
        },
        "id": "os_pzQ_in6k-",
        "outputId": "3af56334-189d-42b3-bb12-17824a3d41ff",
        "colab": {
          "base_uri": "https://localhost:8080/"
        }
      },
      "outputs": [
        {
          "output_type": "execute_result",
          "data": {
            "text/plain": [
              "np.float64(0.17307692307692307)"
            ]
          },
          "metadata": {},
          "execution_count": 26
        }
      ],
      "source": [
        "conditional(liberal & female, given=banker)"
      ]
    },
    {
      "cell_type": "markdown",
      "metadata": {
        "id": "b2Od5Jgvn6k-"
      },
      "source": [
        "About 17% of bankers are liberal women."
      ]
    },
    {
      "cell_type": "markdown",
      "metadata": {
        "id": "dVotLeEtn6k_"
      },
      "source": [
        "## Laws of Probability\n",
        "\n",
        "In the next few sections, we'll derive three relationships between conjunction and conditional probability:\n",
        "\n",
        "* Theorem 1: Using a conjunction to compute a conditional probability.\n",
        "\n",
        "* Theorem 2: Using a conditional probability to compute a conjunction.\n",
        "\n",
        "* Theorem 3: Using `conditional(A, B)` to compute `conditional(B, A)`.\n",
        "\n",
        "Theorem 3 is also known as Bayes's Theorem.\n",
        "\n",
        "I'll write these theorems using mathematical notation for probability:\n",
        "\n",
        "* $P(A)$ is the probability of proposition $A$.\n",
        "\n",
        "* $P(A~\\mathrm{and}~B)$ is the probability of the conjunction of $A$ and $B$, that is, the probability that both are true.\n",
        "\n",
        "* $P(A | B)$ is the conditional probability of $A$ given that $B$ is true.  The vertical line between $A$ and $B$ is pronounced \"given\".\n",
        "\n",
        "With that, we are ready for Theorem 1."
      ]
    },
    {
      "cell_type": "markdown",
      "metadata": {
        "id": "ZcjlRC-9n6k_"
      },
      "source": [
        "### Theorem 1\n",
        "\n",
        "What fraction of bankers are female?  We have already seen one way to compute the answer:\n",
        "\n",
        "1. Use the bracket operator to select the bankers, then\n",
        "\n",
        "2. Use `mean` to compute the fraction of bankers who are female.\n",
        "\n",
        "We can write these steps like this:"
      ]
    },
    {
      "cell_type": "code",
      "execution_count": 27,
      "metadata": {
        "execution": {
          "iopub.execute_input": "2021-04-16T19:35:09.254022Z",
          "iopub.status.busy": "2021-04-16T19:35:09.253618Z",
          "iopub.status.idle": "2021-04-16T19:35:09.257836Z",
          "shell.execute_reply": "2021-04-16T19:35:09.258250Z"
        },
        "id": "sPktqM6Nn6lA",
        "outputId": "2bd7078f-8cba-47a1-d1b1-94243912fe44",
        "colab": {
          "base_uri": "https://localhost:8080/"
        }
      },
      "outputs": [
        {
          "output_type": "execute_result",
          "data": {
            "text/plain": [
              "np.float64(0.7706043956043956)"
            ]
          },
          "metadata": {},
          "execution_count": 27
        }
      ],
      "source": [
        "female[banker].mean()"
      ]
    },
    {
      "cell_type": "markdown",
      "metadata": {
        "id": "T6nYSzx7n6lA"
      },
      "source": [
        "Or we can use the `conditional` function, which does the same thing:"
      ]
    },
    {
      "cell_type": "code",
      "execution_count": 28,
      "metadata": {
        "execution": {
          "iopub.execute_input": "2021-04-16T19:35:09.261661Z",
          "iopub.status.busy": "2021-04-16T19:35:09.260776Z",
          "iopub.status.idle": "2021-04-16T19:35:09.264587Z",
          "shell.execute_reply": "2021-04-16T19:35:09.264191Z"
        },
        "id": "Zm62zHP7n6lA",
        "outputId": "e4a3cc1b-6d5c-4d17-9ced-3a98ab105c6e",
        "colab": {
          "base_uri": "https://localhost:8080/"
        }
      },
      "outputs": [
        {
          "output_type": "execute_result",
          "data": {
            "text/plain": [
              "np.float64(0.7706043956043956)"
            ]
          },
          "metadata": {},
          "execution_count": 28
        }
      ],
      "source": [
        "conditional(female, given=banker)"
      ]
    },
    {
      "cell_type": "markdown",
      "metadata": {
        "id": "L8ekxMSXn6lB"
      },
      "source": [
        "But there is another way to compute this conditional probability, by computing the ratio of two probabilities:\n",
        "\n",
        "1. The fraction of respondents who are female bankers, and\n",
        "\n",
        "2. The fraction of respondents who are bankers.\n",
        "\n",
        "In other words: of all the bankers, what fraction are female bankers?\n",
        "Here's how we compute this ratio."
      ]
    },
    {
      "cell_type": "code",
      "execution_count": 29,
      "metadata": {
        "execution": {
          "iopub.execute_input": "2021-04-16T19:35:09.268221Z",
          "iopub.status.busy": "2021-04-16T19:35:09.267591Z",
          "iopub.status.idle": "2021-04-16T19:35:09.271822Z",
          "shell.execute_reply": "2021-04-16T19:35:09.271337Z"
        },
        "id": "0M8-VbZJn6lB",
        "outputId": "62d04244-b8fa-41d4-8e91-b37de1ca0898",
        "colab": {
          "base_uri": "https://localhost:8080/"
        }
      },
      "outputs": [
        {
          "output_type": "execute_result",
          "data": {
            "text/plain": [
              "np.float64(0.7706043956043956)"
            ]
          },
          "metadata": {},
          "execution_count": 29
        }
      ],
      "source": [
        "prob(female & banker) / prob(banker)"
      ]
    },
    {
      "cell_type": "markdown",
      "metadata": {
        "id": "W6QyQ4oen6lB"
      },
      "source": [
        "The result is the same.  This example demonstrates a general rule that relates conditional probability and conjunction.  Here's what it looks like in math notation:\n",
        "\n",
        "$$P(A|B) = \\frac{P(A~\\mathrm{and}~B)}{P(B)}$$\n",
        "\n",
        "And that's Theorem 1."
      ]
    },
    {
      "cell_type": "markdown",
      "metadata": {
        "id": "7pTzHMatn6lC"
      },
      "source": [
        "### Theorem 2\n",
        "\n",
        "If we start with Theorem 1 and multiply both sides by $P(B)$, we get Theorem 2.\n",
        "\n",
        "$$P(A~\\mathrm{and}~B) = P(B) ~ P(A|B)$$\n",
        "\n",
        "This formula suggests a second way to compute a conjunction: instead of using the `&` operator, we can compute the product of two probabilities.\n",
        "\n",
        "Let's see if it works for `liberal` and `democrat`.  Here's the result using `&`:"
      ]
    },
    {
      "cell_type": "code",
      "execution_count": 30,
      "metadata": {
        "execution": {
          "iopub.execute_input": "2021-04-16T19:35:09.275335Z",
          "iopub.status.busy": "2021-04-16T19:35:09.274699Z",
          "iopub.status.idle": "2021-04-16T19:35:09.278134Z",
          "shell.execute_reply": "2021-04-16T19:35:09.277739Z"
        },
        "id": "HOJcvD_in6lC",
        "outputId": "3a245c9b-b95e-429e-c889-ff8bdb780d84",
        "colab": {
          "base_uri": "https://localhost:8080/"
        }
      },
      "outputs": [
        {
          "output_type": "execute_result",
          "data": {
            "text/plain": [
              "np.float64(0.1425238385067965)"
            ]
          },
          "metadata": {},
          "execution_count": 30
        }
      ],
      "source": [
        "prob(liberal & democrat)"
      ]
    },
    {
      "cell_type": "markdown",
      "metadata": {
        "id": "bM1hU_-In6lD"
      },
      "source": [
        "And here's the result using Theorem 2:"
      ]
    },
    {
      "cell_type": "code",
      "execution_count": 31,
      "metadata": {
        "execution": {
          "iopub.execute_input": "2021-04-16T19:35:09.282010Z",
          "iopub.status.busy": "2021-04-16T19:35:09.281020Z",
          "iopub.status.idle": "2021-04-16T19:35:09.285790Z",
          "shell.execute_reply": "2021-04-16T19:35:09.286268Z"
        },
        "id": "PN0ZLvSqn6lD",
        "outputId": "22965960-009a-424a-97f0-dae3f3be2926",
        "colab": {
          "base_uri": "https://localhost:8080/"
        }
      },
      "outputs": [
        {
          "output_type": "execute_result",
          "data": {
            "text/plain": [
              "np.float64(0.1425238385067965)"
            ]
          },
          "metadata": {},
          "execution_count": 31
        }
      ],
      "source": [
        "prob(democrat) * conditional(liberal, democrat)"
      ]
    },
    {
      "cell_type": "markdown",
      "metadata": {
        "id": "VVf5XYQcn6lE"
      },
      "source": [
        "They are the same."
      ]
    },
    {
      "cell_type": "markdown",
      "metadata": {
        "id": "yN0xScman6lE"
      },
      "source": [
        "### Theorem 3\n",
        "\n",
        "We have established that conjunction is commutative.  In math notation, that means:\n",
        "\n",
        "$$P(A~\\mathrm{and}~B) = P(B~\\mathrm{and}~A)$$\n",
        "\n",
        "If we apply Theorem 2 to both sides, we have\n",
        "\n",
        "$$P(B) P(A|B) = P(A) P(B|A)$$\n",
        "\n",
        "Here's one way to interpret that: if you want to check $A$ and $B$, you can do it in either order:\n",
        "\n",
        "1. You can check $B$ first, then $A$ conditioned on $B$, or\n",
        "\n",
        "2. You can check $A$ first, then $B$ conditioned on $A$.\n",
        "\n",
        "If we divide through by $P(B)$, we get Theorem 3:\n",
        "\n",
        "$$P(A|B) = \\frac{P(A) P(B|A)}{P(B)}$$\n",
        "\n",
        "And that, my friends, is Bayes's Theorem.\n",
        "\n",
        "To see how it works, let's compute the fraction of bankers who are liberal, first using `conditional`:"
      ]
    },
    {
      "cell_type": "code",
      "execution_count": 32,
      "metadata": {
        "execution": {
          "iopub.execute_input": "2021-04-16T19:35:09.289892Z",
          "iopub.status.busy": "2021-04-16T19:35:09.289327Z",
          "iopub.status.idle": "2021-04-16T19:35:09.292846Z",
          "shell.execute_reply": "2021-04-16T19:35:09.293307Z"
        },
        "id": "9aVgowdWn6lF",
        "outputId": "2dfbeb13-c8ed-469c-ab5b-ab1c69f336a6",
        "colab": {
          "base_uri": "https://localhost:8080/"
        }
      },
      "outputs": [
        {
          "output_type": "execute_result",
          "data": {
            "text/plain": [
              "np.float64(0.2239010989010989)"
            ]
          },
          "metadata": {},
          "execution_count": 32
        }
      ],
      "source": [
        "conditional(liberal, given=banker)"
      ]
    },
    {
      "cell_type": "markdown",
      "metadata": {
        "id": "QuJSRRyQn6lG"
      },
      "source": [
        "Now using Bayes's Theorem:"
      ]
    },
    {
      "cell_type": "code",
      "execution_count": 33,
      "metadata": {
        "execution": {
          "iopub.execute_input": "2021-04-16T19:35:09.296917Z",
          "iopub.status.busy": "2021-04-16T19:35:09.296411Z",
          "iopub.status.idle": "2021-04-16T19:35:09.302183Z",
          "shell.execute_reply": "2021-04-16T19:35:09.301729Z"
        },
        "id": "wtqWcTfnn6lG",
        "outputId": "0cfb442c-e584-46f7-8ad5-0433e5157a7a",
        "colab": {
          "base_uri": "https://localhost:8080/"
        }
      },
      "outputs": [
        {
          "output_type": "execute_result",
          "data": {
            "text/plain": [
              "np.float64(0.2239010989010989)"
            ]
          },
          "metadata": {},
          "execution_count": 33
        }
      ],
      "source": [
        "prob(liberal) * conditional(banker, liberal) / prob(banker)"
      ]
    },
    {
      "cell_type": "markdown",
      "metadata": {
        "id": "WzlJZu5Nn6lH"
      },
      "source": [
        "They are the same."
      ]
    },
    {
      "cell_type": "markdown",
      "metadata": {
        "id": "hSQbKLDin6lH"
      },
      "source": [
        "## The Law of Total Probability\n",
        "\n",
        "In addition to these three theorems, there's one more thing we'll need to do Bayesian statistics: the law of total probability.\n",
        "Here's one form of the law, expressed in mathematical notation:\n",
        "\n",
        "$$P(A) = P(B_1 \\mathrm{and} A) + P(B_2 \\mathrm{and} A)$$\n",
        "\n",
        "In words, the total probability of $A$ is the sum of two possibilities: either $B_1$ and $A$ are true or $B_2$ and $A$ are true.\n",
        "But this law applies only if $B_1$ and $B_2$ are:\n",
        "\n",
        "* Mutually exclusive, which means that only one of them can be true, and\n",
        "\n",
        "* Collectively exhaustive, which means that one of them must be true.\n",
        "\n",
        "As an example, let's use this law to compute the probability that a respondent is a banker.\n",
        "We can compute it directly like this:"
      ]
    },
    {
      "cell_type": "code",
      "execution_count": 34,
      "metadata": {
        "execution": {
          "iopub.execute_input": "2021-04-16T19:35:09.306120Z",
          "iopub.status.busy": "2021-04-16T19:35:09.305480Z",
          "iopub.status.idle": "2021-04-16T19:35:09.308555Z",
          "shell.execute_reply": "2021-04-16T19:35:09.309041Z"
        },
        "id": "lHVBnUoKn6lI",
        "outputId": "57dddaab-24fd-4c40-9c8c-b6f5629c08d0",
        "colab": {
          "base_uri": "https://localhost:8080/"
        }
      },
      "outputs": [
        {
          "output_type": "execute_result",
          "data": {
            "text/plain": [
              "np.float64(0.014769730168391155)"
            ]
          },
          "metadata": {},
          "execution_count": 34
        }
      ],
      "source": [
        "prob(banker)"
      ]
    },
    {
      "cell_type": "markdown",
      "metadata": {
        "id": "G7FtBm2pn6lI"
      },
      "source": [
        "So let's confirm that we get the same thing if we compute male and female bankers separately.\n",
        "\n",
        "In this dataset all respondents are designated male or female.  Recently, the GSS Board of Overseers announced that they will add more inclusive gender questions to the survey (you can read more about this issue, and their decision, at <https://gender.stanford.edu/news-publications/gender-news/more-inclusive-gender-questions-added-general-social-survey>.\n",
        "\n",
        "\n",
        "We already have a Boolean `Series` that is `True` for female respondents.\n",
        "Here's the complementary `Series` for male respondents."
      ]
    },
    {
      "cell_type": "code",
      "execution_count": 35,
      "metadata": {
        "execution": {
          "iopub.execute_input": "2021-04-16T19:35:09.313714Z",
          "iopub.status.busy": "2021-04-16T19:35:09.312851Z",
          "iopub.status.idle": "2021-04-16T19:35:09.315579Z",
          "shell.execute_reply": "2021-04-16T19:35:09.315077Z"
        },
        "id": "D_LDqiWkn6lJ"
      },
      "outputs": [],
      "source": [
        "male = (gss['sex'] == 1)"
      ]
    },
    {
      "cell_type": "markdown",
      "metadata": {
        "id": "4TeRY5H9n6lJ"
      },
      "source": [
        "Now we can compute the total probability of `banker` like this."
      ]
    },
    {
      "cell_type": "code",
      "execution_count": 36,
      "metadata": {
        "execution": {
          "iopub.execute_input": "2021-04-16T19:35:09.320293Z",
          "iopub.status.busy": "2021-04-16T19:35:09.319613Z",
          "iopub.status.idle": "2021-04-16T19:35:09.323814Z",
          "shell.execute_reply": "2021-04-16T19:35:09.324375Z"
        },
        "id": "46V3ZVr1n6lJ",
        "outputId": "650864ec-d5bf-4f21-a3cd-7686db1017de",
        "colab": {
          "base_uri": "https://localhost:8080/"
        }
      },
      "outputs": [
        {
          "output_type": "execute_result",
          "data": {
            "text/plain": [
              "np.float64(0.014769730168391155)"
            ]
          },
          "metadata": {},
          "execution_count": 36
        }
      ],
      "source": [
        "prob(male & banker) + prob(female & banker)"
      ]
    },
    {
      "cell_type": "markdown",
      "metadata": {
        "id": "emmxp7esn6lK"
      },
      "source": [
        "Because `male` and `female` are mutually exclusive and collectively exhaustive (MECE), we get the same result we got by computing the probability of `banker` directly.\n",
        "\n",
        "Applying Theorem 2, we can also write the law of total probability like this:\n",
        "\n",
        "$$P(A) = P(B_1) P(A|B_1) + P(B_2) P(A|B_2)$$\n",
        "\n",
        "And we can test it with the same example:"
      ]
    },
    {
      "cell_type": "code",
      "execution_count": 37,
      "metadata": {
        "execution": {
          "iopub.execute_input": "2021-04-16T19:35:09.330125Z",
          "iopub.status.busy": "2021-04-16T19:35:09.328968Z",
          "iopub.status.idle": "2021-04-16T19:35:09.336156Z",
          "shell.execute_reply": "2021-04-16T19:35:09.335726Z"
        },
        "id": "S0d7Jvo8n6lK",
        "outputId": "8507608d-4c56-404f-a708-ef9385a9cdb8",
        "colab": {
          "base_uri": "https://localhost:8080/"
        }
      },
      "outputs": [
        {
          "output_type": "execute_result",
          "data": {
            "text/plain": [
              "np.float64(0.014769730168391153)"
            ]
          },
          "metadata": {},
          "execution_count": 37
        }
      ],
      "source": [
        "(prob(male) * conditional(banker, given=male) +\n",
        "prob(female) * conditional(banker, given=female))"
      ]
    },
    {
      "cell_type": "markdown",
      "metadata": {
        "id": "xrFWGS4Bn6lK"
      },
      "source": [
        "When there are more than two conditions, it is more concise to write the law of total probability as a summation:\n",
        "\n",
        "$$P(A) = \\sum_i P(B_i) P(A|B_i)$$\n",
        "\n",
        "Again, this holds as long as the conditions, $B_i$ are mutually exclusive and collectively exhaustive.\n",
        "As an example, let's consider `polviews`, which has seven different values."
      ]
    },
    {
      "cell_type": "code",
      "execution_count": 38,
      "metadata": {
        "execution": {
          "iopub.execute_input": "2021-04-16T19:35:09.340326Z",
          "iopub.status.busy": "2021-04-16T19:35:09.339575Z",
          "iopub.status.idle": "2021-04-16T19:35:09.345569Z",
          "shell.execute_reply": "2021-04-16T19:35:09.345920Z"
        },
        "id": "gvPqpHA_n6lS",
        "outputId": "c4d8f5bb-0daa-45ae-cf54-6052177bf3da",
        "colab": {
          "base_uri": "https://localhost:8080/",
          "height": 335
        }
      },
      "outputs": [
        {
          "output_type": "execute_result",
          "data": {
            "text/plain": [
              "polviews\n",
              "1.0     1442\n",
              "2.0     5808\n",
              "3.0     6243\n",
              "4.0    18943\n",
              "5.0     7940\n",
              "6.0     7319\n",
              "7.0     1595\n",
              "Name: count, dtype: int64"
            ],
            "text/html": [
              "<div>\n",
              "<style scoped>\n",
              "    .dataframe tbody tr th:only-of-type {\n",
              "        vertical-align: middle;\n",
              "    }\n",
              "\n",
              "    .dataframe tbody tr th {\n",
              "        vertical-align: top;\n",
              "    }\n",
              "\n",
              "    .dataframe thead th {\n",
              "        text-align: right;\n",
              "    }\n",
              "</style>\n",
              "<table border=\"1\" class=\"dataframe\">\n",
              "  <thead>\n",
              "    <tr style=\"text-align: right;\">\n",
              "      <th></th>\n",
              "      <th>count</th>\n",
              "    </tr>\n",
              "    <tr>\n",
              "      <th>polviews</th>\n",
              "      <th></th>\n",
              "    </tr>\n",
              "  </thead>\n",
              "  <tbody>\n",
              "    <tr>\n",
              "      <th>1.0</th>\n",
              "      <td>1442</td>\n",
              "    </tr>\n",
              "    <tr>\n",
              "      <th>2.0</th>\n",
              "      <td>5808</td>\n",
              "    </tr>\n",
              "    <tr>\n",
              "      <th>3.0</th>\n",
              "      <td>6243</td>\n",
              "    </tr>\n",
              "    <tr>\n",
              "      <th>4.0</th>\n",
              "      <td>18943</td>\n",
              "    </tr>\n",
              "    <tr>\n",
              "      <th>5.0</th>\n",
              "      <td>7940</td>\n",
              "    </tr>\n",
              "    <tr>\n",
              "      <th>6.0</th>\n",
              "      <td>7319</td>\n",
              "    </tr>\n",
              "    <tr>\n",
              "      <th>7.0</th>\n",
              "      <td>1595</td>\n",
              "    </tr>\n",
              "  </tbody>\n",
              "</table>\n",
              "</div><br><label><b>dtype:</b> int64</label>"
            ]
          },
          "metadata": {},
          "execution_count": 38
        }
      ],
      "source": [
        "B = gss['polviews']\n",
        "B.value_counts().sort_index()"
      ]
    },
    {
      "cell_type": "markdown",
      "metadata": {
        "id": "iljm8rF_n6lS"
      },
      "source": [
        "On this scale, `4.0` represents \"Moderate\".\n",
        "So we can compute the probability of a moderate banker like this:"
      ]
    },
    {
      "cell_type": "code",
      "execution_count": 39,
      "metadata": {
        "execution": {
          "iopub.execute_input": "2021-04-16T19:35:09.349523Z",
          "iopub.status.busy": "2021-04-16T19:35:09.348794Z",
          "iopub.status.idle": "2021-04-16T19:35:09.354627Z",
          "shell.execute_reply": "2021-04-16T19:35:09.354093Z"
        },
        "id": "R85Eusu2n6lT",
        "outputId": "db3c4942-8ebe-46df-f2b7-896f8047e7d9",
        "colab": {
          "base_uri": "https://localhost:8080/"
        }
      },
      "outputs": [
        {
          "output_type": "execute_result",
          "data": {
            "text/plain": [
              "np.float64(0.005822682085615744)"
            ]
          },
          "metadata": {},
          "execution_count": 39
        }
      ],
      "source": [
        "i = 4\n",
        "prob(B==i) * conditional(banker, B==i)"
      ]
    },
    {
      "cell_type": "markdown",
      "metadata": {
        "id": "Azc-kfqmn6lT"
      },
      "source": [
        "And we can use `sum` and a [generator expression](https://www.johndcook.com/blog/2020/01/15/generator-expression/) to compute the summation."
      ]
    },
    {
      "cell_type": "code",
      "execution_count": 40,
      "metadata": {
        "execution": {
          "iopub.execute_input": "2021-04-16T19:35:09.358978Z",
          "iopub.status.busy": "2021-04-16T19:35:09.358491Z",
          "iopub.status.idle": "2021-04-16T19:35:09.371125Z",
          "shell.execute_reply": "2021-04-16T19:35:09.370597Z"
        },
        "id": "Fp6wL8iVn6lT",
        "outputId": "70b06cd3-3a2e-41a5-a3de-78be2d19d996",
        "colab": {
          "base_uri": "https://localhost:8080/"
        }
      },
      "outputs": [
        {
          "output_type": "execute_result",
          "data": {
            "text/plain": [
              "np.float64(0.014769730168391157)"
            ]
          },
          "metadata": {},
          "execution_count": 40
        }
      ],
      "source": [
        "sum(prob(B==i) * conditional(banker, B==i)\n",
        "    for i in range(1, 8))"
      ]
    },
    {
      "cell_type": "markdown",
      "metadata": {
        "id": "QVCgyY-Pn6lU"
      },
      "source": [
        "The result is the same.\n",
        "\n",
        "In this example, using the law of total probability is a lot more work than computing the probability directly, but it will turn out to be useful, I promise."
      ]
    },
    {
      "cell_type": "markdown",
      "metadata": {
        "id": "hY9mkQtxn6lU"
      },
      "source": [
        "## Summary\n",
        "\n",
        "Here's what we have so far:\n",
        "\n",
        "**Theorem 1** gives us a way to compute a conditional probability using a conjunction:\n",
        "\n",
        "$$P(A|B) = \\frac{P(A~\\mathrm{and}~B)}{P(B)}$$\n",
        "\n",
        "**Theorem 2** gives us a way to compute a conjunction using a conditional probability:\n",
        "\n",
        "$$P(A~\\mathrm{and}~B) = P(B) P(A|B)$$\n",
        "\n",
        "**Theorem 3**, also known as Bayes's Theorem, gives us a way to get from $P(A|B)$ to $P(B|A)$, or the other way around:\n",
        "\n",
        "$$P(A|B) = \\frac{P(A) P(B|A)}{P(B)}$$\n",
        "\n",
        "**The Law of Total Probability** provides a way to compute probabilities by adding up the pieces:\n",
        "\n",
        "$$P(A) = \\sum_i P(B_i) P(A|B_i)$$\n",
        "\n",
        "At this point you might ask, \"So what?\"  If we have all of the data, we can compute any probability we want, any conjunction, or any conditional probability, just by counting.  We don't have to use these formulas.\n",
        "\n",
        "And you are right, *if* we have all of the data.  But often we don't, and in that case, these formulas can be pretty useful -- especially Bayes's Theorem.\n",
        "In the next chapter, we'll see how."
      ]
    },
    {
      "cell_type": "markdown",
      "metadata": {
        "id": "zCINEwKUn6lV"
      },
      "source": [
        "## Exercises"
      ]
    },
    {
      "cell_type": "markdown",
      "metadata": {
        "id": "cHkbal9Tn6lW"
      },
      "source": [
        "**Exercise:** Use `conditional` to compute the following probabilities:\n",
        "\n",
        "* What is the probability that a respondent is liberal, given that they are a Democrat?\n",
        "\n",
        "* What is the probability that a respondent is a Democrat, given that they are liberal?\n",
        "\n",
        "Think carefully about the order of the arguments you pass to `conditional`."
      ]
    },
    {
      "cell_type": "code",
      "execution_count": 53,
      "metadata": {
        "execution": {
          "iopub.execute_input": "2021-04-16T19:35:09.399461Z",
          "iopub.status.busy": "2021-04-16T19:35:09.398872Z",
          "iopub.status.idle": "2021-04-16T19:35:09.403442Z",
          "shell.execute_reply": "2021-04-16T19:35:09.403943Z"
        },
        "id": "47-4515Ln6lW",
        "outputId": "fedd8064-04e9-4dc0-95b1-1711052663e4",
        "colab": {
          "base_uri": "https://localhost:8080/"
        }
      },
      "outputs": [
        {
          "output_type": "stream",
          "name": "stdout",
          "text": [
            "0.3891320002215698\n"
          ]
        }
      ],
      "source": [
        "# Solution goes here\n",
        "result=conditional(liberal, given=democrat)\n",
        "print(result)"
      ]
    },
    {
      "cell_type": "code",
      "execution_count": 54,
      "metadata": {
        "execution": {
          "iopub.execute_input": "2021-04-16T19:35:09.407668Z",
          "iopub.status.busy": "2021-04-16T19:35:09.407123Z",
          "iopub.status.idle": "2021-04-16T19:35:09.411160Z",
          "shell.execute_reply": "2021-04-16T19:35:09.411604Z"
        },
        "id": "O9CjXb9-n6lX",
        "outputId": "8e4ae58b-3803-4627-eeb7-8063df0567fa",
        "colab": {
          "base_uri": "https://localhost:8080/"
        }
      },
      "outputs": [
        {
          "output_type": "stream",
          "name": "stdout",
          "text": [
            "0.5206403320240125\n"
          ]
        }
      ],
      "source": [
        "# Solution goes here\n",
        "result=conditional(democrat, given=liberal)\n",
        "print(result)"
      ]
    },
    {
      "cell_type": "markdown",
      "metadata": {
        "id": "JMusKX8In6lY"
      },
      "source": [
        "**Exercise:** Let's use the tools in this chapter to solve a variation of the Linda problem.\n",
        "\n",
        "> Linda is 31 years old, single, outspoken, and very bright. She majored in philosophy. As a student, she was deeply concerned with issues of discrimination and social justice, and also participated in anti-nuclear demonstrations.  Which is more probable?\n",
        "> 1. Linda is a banker.\n",
        "> 2. Linda is a banker and considers herself a liberal Democrat.\n",
        "\n",
        "To answer this question, compute\n",
        "\n",
        "* The probability that Linda is a banker, given that she is female,\n",
        "\n",
        "* The probability that Linda is a banker and a liberal Democrat, given that she is female."
      ]
    },
    {
      "cell_type": "code",
      "execution_count": 55,
      "metadata": {
        "execution": {
          "iopub.execute_input": "2021-04-16T19:35:09.375687Z",
          "iopub.status.busy": "2021-04-16T19:35:09.374854Z",
          "iopub.status.idle": "2021-04-16T19:35:09.379273Z",
          "shell.execute_reply": "2021-04-16T19:35:09.378643Z"
        },
        "id": "NT0JHLPMn6lY",
        "outputId": "1bd51d1e-e59c-4688-dc84-2d9da4442ed0",
        "colab": {
          "base_uri": "https://localhost:8080/"
        }
      },
      "outputs": [
        {
          "output_type": "stream",
          "name": "stdout",
          "text": [
            "0.02116102749801969\n"
          ]
        }
      ],
      "source": [
        "# Solution goes here\n",
        "result=conditional(banker,given=female)\n",
        "print(result)"
      ]
    },
    {
      "cell_type": "code",
      "execution_count": 56,
      "metadata": {
        "execution": {
          "iopub.execute_input": "2021-04-16T19:35:09.383986Z",
          "iopub.status.busy": "2021-04-16T19:35:09.383142Z",
          "iopub.status.idle": "2021-04-16T19:35:09.386942Z",
          "shell.execute_reply": "2021-04-16T19:35:09.387425Z"
        },
        "id": "uDplKnQKn6lY",
        "outputId": "c9a065f2-7639-4b10-cab1-865e7791f053",
        "colab": {
          "base_uri": "https://localhost:8080/"
        }
      },
      "outputs": [
        {
          "output_type": "stream",
          "name": "stdout",
          "text": [
            "0.0023009316887329786\n"
          ]
        }
      ],
      "source": [
        "# Solution goes here\n",
        "result=conditional(banker & democrat & liberal,given=female)\n",
        "print(result)"
      ]
    },
    {
      "cell_type": "markdown",
      "metadata": {
        "id": "XSYxowQLn6lZ"
      },
      "source": [
        "**Exercise:** There's a [famous quote](https://quoteinvestigator.com/2014/02/24/heart-head/) about young people, old people, liberals, and conservatives that goes something like:\n",
        "\n",
        "> If you are not a liberal at 25, you have no heart. If you are not a conservative at 35, you have no brain.\n",
        "\n",
        "Whether you agree with this proposition or not, it suggests some probabilities we can compute as an exercise.\n",
        "Rather than use the specific ages 25 and 35, let's define `young` and `old` as under 30 or over 65:"
      ]
    },
    {
      "cell_type": "code",
      "execution_count": 57,
      "metadata": {
        "execution": {
          "iopub.execute_input": "2021-04-16T19:35:09.415701Z",
          "iopub.status.busy": "2021-04-16T19:35:09.415139Z",
          "iopub.status.idle": "2021-04-16T19:35:09.418451Z",
          "shell.execute_reply": "2021-04-16T19:35:09.418810Z"
        },
        "id": "NjTj0AVIn6la",
        "outputId": "bf06a6d3-7133-49bb-c0d6-8bfe73b4067a",
        "colab": {
          "base_uri": "https://localhost:8080/"
        }
      },
      "outputs": [
        {
          "output_type": "execute_result",
          "data": {
            "text/plain": [
              "np.float64(0.19435991073240008)"
            ]
          },
          "metadata": {},
          "execution_count": 57
        }
      ],
      "source": [
        "young = (gss['age'] < 30)\n",
        "prob(young)"
      ]
    },
    {
      "cell_type": "code",
      "execution_count": 58,
      "metadata": {
        "execution": {
          "iopub.execute_input": "2021-04-16T19:35:09.423028Z",
          "iopub.status.busy": "2021-04-16T19:35:09.422417Z",
          "iopub.status.idle": "2021-04-16T19:35:09.425586Z",
          "shell.execute_reply": "2021-04-16T19:35:09.425960Z"
        },
        "id": "8NQNWzsan6la",
        "outputId": "faa39e1a-d25b-45c5-9e17-ccbc50f118da",
        "colab": {
          "base_uri": "https://localhost:8080/"
        }
      },
      "outputs": [
        {
          "output_type": "execute_result",
          "data": {
            "text/plain": [
              "np.float64(0.17328058429701765)"
            ]
          },
          "metadata": {},
          "execution_count": 58
        }
      ],
      "source": [
        "old = (gss['age'] >= 65)\n",
        "prob(old)"
      ]
    },
    {
      "cell_type": "markdown",
      "metadata": {
        "id": "_ULu7nAUn6lb"
      },
      "source": [
        "For these thresholds, I chose round numbers near the 20th and 80th percentiles.  Depending on your age, you may or may not agree with these definitions of \"young\" and \"old\".\n",
        "\n",
        "I'll define `conservative` as someone whose political views are \"Conservative\", \"Slightly Conservative\", or \"Extremely Conservative\"."
      ]
    },
    {
      "cell_type": "code",
      "execution_count": 47,
      "metadata": {
        "execution": {
          "iopub.execute_input": "2021-04-16T19:35:09.429448Z",
          "iopub.status.busy": "2021-04-16T19:35:09.428975Z",
          "iopub.status.idle": "2021-04-16T19:35:09.432387Z",
          "shell.execute_reply": "2021-04-16T19:35:09.432875Z"
        },
        "id": "KFjzByXKn6lb",
        "outputId": "118cb1ef-397b-4667-a38d-fec833f8a920",
        "colab": {
          "base_uri": "https://localhost:8080/"
        }
      },
      "outputs": [
        {
          "output_type": "execute_result",
          "data": {
            "text/plain": [
              "np.float64(0.3419354838709677)"
            ]
          },
          "metadata": {},
          "execution_count": 47
        }
      ],
      "source": [
        "conservative = (gss['polviews'] >= 5)\n",
        "prob(conservative)"
      ]
    },
    {
      "cell_type": "markdown",
      "metadata": {
        "id": "2l-WoQbon6lc"
      },
      "source": [
        "Use `prob` and `conditional` to compute the following probabilities.\n",
        "\n",
        "* What is the probability that a randomly chosen respondent is a young liberal?\n",
        "\n",
        "* What is the probability that a young person is liberal?\n",
        "\n",
        "* What fraction of respondents are old conservatives?\n",
        "\n",
        "* What fraction of conservatives are old?\n",
        "\n",
        "For each statement, think about whether it is expressing a conjunction, a conditional probability, or both.\n",
        "\n",
        "For the conditional probabilities, be careful about the order of the arguments.\n",
        "If your answer to the last question is greater than 30%, you have it backwards!"
      ]
    },
    {
      "cell_type": "code",
      "execution_count": 60,
      "metadata": {
        "execution": {
          "iopub.execute_input": "2021-04-16T19:35:09.436838Z",
          "iopub.status.busy": "2021-04-16T19:35:09.436245Z",
          "iopub.status.idle": "2021-04-16T19:35:09.439984Z",
          "shell.execute_reply": "2021-04-16T19:35:09.440468Z"
        },
        "id": "pocMArJSn6lc",
        "outputId": "ae1f2153-b032-49bc-bf58-46ccc08d80f3",
        "colab": {
          "base_uri": "https://localhost:8080/"
        }
      },
      "outputs": [
        {
          "output_type": "stream",
          "name": "stdout",
          "text": [
            "0.06579427875836884\n"
          ]
        }
      ],
      "source": [
        "# Solution goes here\n",
        "result=prob(young & liberal)\n",
        "print(result)"
      ]
    },
    {
      "cell_type": "code",
      "execution_count": 61,
      "metadata": {
        "execution": {
          "iopub.execute_input": "2021-04-16T19:35:09.443827Z",
          "iopub.status.busy": "2021-04-16T19:35:09.443300Z",
          "iopub.status.idle": "2021-04-16T19:35:09.447774Z",
          "shell.execute_reply": "2021-04-16T19:35:09.447317Z"
        },
        "id": "c3oAP8M_n6ld",
        "outputId": "b00ef016-3e79-4cf2-d871-d2fcfccf7b9c",
        "colab": {
          "base_uri": "https://localhost:8080/"
        }
      },
      "outputs": [
        {
          "output_type": "stream",
          "name": "stdout",
          "text": [
            "0.338517745302714\n"
          ]
        }
      ],
      "source": [
        "# Solution goes here\n",
        "result = conditional(liberal,given=young)\n",
        "print(result)"
      ]
    },
    {
      "cell_type": "code",
      "execution_count": 67,
      "metadata": {
        "execution": {
          "iopub.execute_input": "2021-04-16T19:35:09.451326Z",
          "iopub.status.busy": "2021-04-16T19:35:09.450505Z",
          "iopub.status.idle": "2021-04-16T19:35:09.455557Z",
          "shell.execute_reply": "2021-04-16T19:35:09.455085Z"
        },
        "id": "9FrlzDJfn6le",
        "outputId": "6b225b83-cbd6-4468-868a-d4c6daeb0916",
        "colab": {
          "base_uri": "https://localhost:8080/"
        }
      },
      "outputs": [
        {
          "output_type": "stream",
          "name": "stdout",
          "text": [
            "0.06701156421180766\n"
          ]
        }
      ],
      "source": [
        "# Solution goes here\n",
        "result= prob(old & conservative)\n",
        "print(result)"
      ]
    },
    {
      "cell_type": "code",
      "source": [
        "# prompt: What fraction of conservatives are old? Calcule usando bayes\n",
        "\n",
        "result = conditional(old, given=conservative)\n",
        "result"
      ],
      "metadata": {
        "id": "YYnHNsvoxfdU",
        "outputId": "3b16a79a-8fc5-4e7d-c7ab-d39cae723117",
        "colab": {
          "base_uri": "https://localhost:8080/"
        }
      },
      "execution_count": 71,
      "outputs": [
        {
          "output_type": "execute_result",
          "data": {
            "text/plain": [
              "np.float64(0.19597721609113564)"
            ]
          },
          "metadata": {},
          "execution_count": 71
        }
      ]
    },
    {
      "cell_type": "markdown",
      "metadata": {
        "id": "NvFr4XyKn6le"
      },
      "source": []
    }
  ],
  "metadata": {
    "celltoolbar": "Tags",
    "kernelspec": {
      "display_name": "Python 3 (ipykernel)",
      "language": "python",
      "name": "python3"
    },
    "language_info": {
      "codemirror_mode": {
        "name": "ipython",
        "version": 3
      },
      "file_extension": ".py",
      "mimetype": "text/x-python",
      "name": "python",
      "nbconvert_exporter": "python",
      "pygments_lexer": "ipython3",
      "version": "3.10.12"
    },
    "colab": {
      "provenance": []
    }
  },
  "nbformat": 4,
  "nbformat_minor": 0
}